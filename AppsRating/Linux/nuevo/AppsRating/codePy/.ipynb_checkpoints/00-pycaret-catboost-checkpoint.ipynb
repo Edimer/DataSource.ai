{
 "cells": [
  {
   "cell_type": "markdown",
   "metadata": {},
   "source": [
    "# Predicción del rating de Las aplicaciones en Google Play Store\n",
    "\n",
    "[Edimer David Jaramillo (Sidereus)](https://edimer.github.io/)\n",
    "\n",
    "![](competencia.PNG)"
   ]
  },
  {
   "cell_type": "markdown",
   "metadata": {},
   "source": [
    "# Variables\n",
    "\n",
    "![](variables.PNG)"
   ]
  },
  {
   "cell_type": "markdown",
   "metadata": {},
   "source": [
    "# Datos Train"
   ]
  },
  {
   "cell_type": "code",
   "execution_count": 1,
   "metadata": {},
   "outputs": [],
   "source": [
    "import pandas as pd"
   ]
  },
  {
   "cell_type": "code",
   "execution_count": 33,
   "metadata": {},
   "outputs": [
    {
     "name": "stdout",
     "output_type": "stream",
     "text": [
      "<bound method NDFrame.head of                                               App            Category  Rating  \\\n",
      "0                            GPS Status & Toolbox    Travel_and_local       1   \n",
      "1                                    Fish|Hunt FL           Lifestyle       0   \n",
      "2                       Allrecipes Dinner Spinner      Food_and_drink       1   \n",
      "3                            Don't touch my phone               Tools       0   \n",
      "4                                 BM SPM Practice              Family       1   \n",
      "...                                           ...                 ...     ...   \n",
      "5783                           WhatsApp Messenger       Communication       1   \n",
      "5784                                      DT NO.I  Health_and_fitness       0   \n",
      "5785           MyRadar NOAA Weather Radar Ad Free             Weather       1   \n",
      "5786  Account Class-12 Solutions (D K Goel) Vol-1              Family       1   \n",
      "5787                 Join R, Community Engagement              Social       1   \n",
      "\n",
      "       Reviews  Type content_rating        new_genres date_update  new_day  \\\n",
      "0       149723  Free       Everyone    Travel & Local  2018-06-13       13   \n",
      "1          853  Free       Everyone         Lifestyle  2018-03-22       22   \n",
      "2        61881  Free       Everyone      Food & Drink  2018-04-10       10   \n",
      "3        21943  Free       Everyone             Tools  2016-10-19       19   \n",
      "4            6  Free       Everyone         Education  2018-01-24       24   \n",
      "...        ...   ...            ...               ...         ...      ...   \n",
      "5783  69119316  Free       Everyone     Communication  2018-08-03        3   \n",
      "5784        44  Free       Everyone  Health & Fitness  2018-08-01        1   \n",
      "5785      3005  Paid       Everyone           Weather  2018-08-04        4   \n",
      "5786       708  Free       Everyone         Education  2018-02-12       12   \n",
      "5787       144  Free           Teen            Social  2017-01-31       31   \n",
      "\n",
      "      new_year  size_kb  new_installs  new_price  new_month_num  new_version  \\\n",
      "0         2018   4100.0  1.000000e+07       0.00              6          8.0   \n",
      "1         2018  34000.0  1.000000e+05       0.00              3          3.0   \n",
      "2         2018      NaN  5.000000e+06       0.00              4          NaN   \n",
      "3         2016   2300.0  5.000000e+06       0.00             10          NaN   \n",
      "4         2018   9200.0  1.000000e+03       0.00              1          1.0   \n",
      "...        ...      ...           ...        ...            ...          ...   \n",
      "5783      2018      NaN  1.000000e+09       0.00              8          NaN   \n",
      "5784      2018  49000.0  1.000000e+03       0.00              8          NaN   \n",
      "5785      2018  26000.0  1.000000e+04       2.99              8          7.0   \n",
      "5786      2018  33000.0  5.000000e+04       0.00              2          1.0   \n",
      "5787      2017  12000.0  1.000000e+03       0.00              1          1.0   \n",
      "\n",
      "      new_subversion  min_android  \n",
      "0                1.0          4.0  \n",
      "1                2.0          4.1  \n",
      "2                NaN          NaN  \n",
      "3                NaN          2.3  \n",
      "4                0.0          4.1  \n",
      "...              ...          ...  \n",
      "5783             NaN          NaN  \n",
      "5784             0.0          4.3  \n",
      "5785             1.0          NaN  \n",
      "5786             0.0          3.0  \n",
      "5787             0.0          NaN  \n",
      "\n",
      "[5788 rows x 17 columns]>\n"
     ]
    }
   ],
   "source": [
    "data_train = pd.read_csv(\"../data/train1.csv\")\n",
    "print(data_train.head)"
   ]
  },
  {
   "cell_type": "code",
   "execution_count": 34,
   "metadata": {},
   "outputs": [
    {
     "data": {
      "text/plain": [
       "(5788, 17)"
      ]
     },
     "execution_count": 34,
     "metadata": {},
     "output_type": "execute_result"
    }
   ],
   "source": [
    "data_train.shape"
   ]
  },
  {
   "cell_type": "code",
   "execution_count": 35,
   "metadata": {},
   "outputs": [
    {
     "data": {
      "text/plain": [
       "App                object\n",
       "Category           object\n",
       "Rating              int64\n",
       "Reviews             int64\n",
       "Type               object\n",
       "content_rating     object\n",
       "new_genres         object\n",
       "date_update        object\n",
       "new_day             int64\n",
       "new_year            int64\n",
       "size_kb           float64\n",
       "new_installs      float64\n",
       "new_price         float64\n",
       "new_month_num       int64\n",
       "new_version       float64\n",
       "new_subversion    float64\n",
       "min_android       float64\n",
       "dtype: object"
      ]
     },
     "execution_count": 35,
     "metadata": {},
     "output_type": "execute_result"
    }
   ],
   "source": [
    "data_train.dtypes"
   ]
  },
  {
   "cell_type": "markdown",
   "metadata": {},
   "source": [
    "# Datos Test"
   ]
  },
  {
   "cell_type": "code",
   "execution_count": 36,
   "metadata": {},
   "outputs": [
    {
     "name": "stdout",
     "output_type": "stream",
     "text": [
      "<bound method NDFrame.head of                                                     App          Category  \\\n",
      "0                                          Bk Usha behn         Lifestyle   \n",
      "1                                       Funny Ringtones   Personalization   \n",
      "2                                             Strava.cz          Shopping   \n",
      "3                                    BL Flowers Digital          Shopping   \n",
      "4     eCooltra: scooter sharing. Share electric scoo...  Travel_and_local   \n",
      "...                                                 ...               ...   \n",
      "1443                                           Fossil Q         Lifestyle   \n",
      "1444                       Co-op Credit Union on the Go           Finance   \n",
      "1445                               EXOGEN Connects (US)           Medical   \n",
      "1446                                             myGrow      Productivity   \n",
      "1447                                          EZ PZ RPG            Family   \n",
      "\n",
      "      Reviews  Type content_rating       new_genres date_update  new_day  \\\n",
      "0          10  Free       Everyone        Lifestyle  2018-01-14       14   \n",
      "1        7146  Free   Everyone 10+  Personalization  2018-02-02        2   \n",
      "2        2221  Free       Everyone         Shopping  2018-07-10       10   \n",
      "3          21  Free       Everyone         Shopping  2017-10-31       31   \n",
      "4        2822  Free       Everyone   Travel & Local  2018-07-27       27   \n",
      "...       ...   ...            ...              ...         ...      ...   \n",
      "1443     6627  Free       Everyone        Lifestyle  2018-08-01        1   \n",
      "1444        5  Free       Everyone          Finance  2018-04-25       25   \n",
      "1445        0  Free       Everyone          Medical  2018-08-01        1   \n",
      "1446       84  Paid     Mature 17+     Productivity  2016-04-29       29   \n",
      "1447    70903  Free   Everyone 10+     Role Playing  2016-10-27       27   \n",
      "\n",
      "      new_year  size_kb  new_installs  new_price  new_month_num  new_version  \\\n",
      "0         2018   3000.0        1000.0       0.00              1          1.0   \n",
      "1         2018  14000.0     1000000.0       0.00              2          1.0   \n",
      "2         2018      NaN      100000.0       0.00              7          NaN   \n",
      "3         2017   2500.0         100.0       0.00             10          1.0   \n",
      "4         2018  27000.0      100000.0       0.00              7          1.0   \n",
      "...        ...      ...           ...        ...            ...          ...   \n",
      "1443      2018  18000.0      500000.0       0.00              8          2.0   \n",
      "1444      2018  30000.0        1000.0       0.00              4         18.0   \n",
      "1445      2018  16000.0          10.0       0.00              8          1.0   \n",
      "1446      2016  23000.0        1000.0       4.29              4          2.0   \n",
      "1447      2016  47000.0     1000000.0       0.00             10          2.0   \n",
      "\n",
      "      new_subversion  min_android  \n",
      "0                0.0          4.1  \n",
      "1                1.0          4.0  \n",
      "2                NaN          NaN  \n",
      "3                6.0          4.2  \n",
      "4               21.0          4.1  \n",
      "...              ...          ...  \n",
      "1443             5.0          4.4  \n",
      "1444             1.0          5.0  \n",
      "1445             0.0          4.1  \n",
      "1446             3.0          3.2  \n",
      "1447             NaN          2.3  \n",
      "\n",
      "[1448 rows x 16 columns]>\n"
     ]
    }
   ],
   "source": [
    "data_test = pd.read_csv(\"../data/test1.csv\")\n",
    "print(data_test.head)"
   ]
  },
  {
   "cell_type": "code",
   "execution_count": 37,
   "metadata": {},
   "outputs": [
    {
     "data": {
      "text/plain": [
       "(1448, 16)"
      ]
     },
     "execution_count": 37,
     "metadata": {},
     "output_type": "execute_result"
    }
   ],
   "source": [
    "data_test.shape"
   ]
  },
  {
   "cell_type": "code",
   "execution_count": 38,
   "metadata": {},
   "outputs": [
    {
     "data": {
      "text/plain": [
       "App                object\n",
       "Category           object\n",
       "Reviews             int64\n",
       "Type               object\n",
       "content_rating     object\n",
       "new_genres         object\n",
       "date_update        object\n",
       "new_day             int64\n",
       "new_year            int64\n",
       "size_kb           float64\n",
       "new_installs      float64\n",
       "new_price         float64\n",
       "new_month_num       int64\n",
       "new_version       float64\n",
       "new_subversion    float64\n",
       "min_android       float64\n",
       "dtype: object"
      ]
     },
     "execution_count": 38,
     "metadata": {},
     "output_type": "execute_result"
    }
   ],
   "source": [
    "data_test.dtypes"
   ]
  },
  {
   "cell_type": "markdown",
   "metadata": {},
   "source": [
    "# Data Submission"
   ]
  },
  {
   "cell_type": "code",
   "execution_count": 94,
   "metadata": {},
   "outputs": [],
   "source": [
    "data_sub = pd.read_csv(\"../data/sample_submission.csv\")"
   ]
  },
  {
   "cell_type": "markdown",
   "metadata": {},
   "source": [
    "# Seleccionando variables para modelos"
   ]
  },
  {
   "cell_type": "code",
   "execution_count": 45,
   "metadata": {},
   "outputs": [],
   "source": [
    "# Selección de columnnas\n",
    "mi_train = data_train.drop([\"App\", \"date_update\"], axis = 1)\n",
    "mi_test = data_test.drop([\"App\", \"date_update\"], axis = 1)"
   ]
  },
  {
   "cell_type": "markdown",
   "metadata": {},
   "source": [
    "# Partición en Train-Validation"
   ]
  },
  {
   "cell_type": "code",
   "execution_count": 52,
   "metadata": {},
   "outputs": [
    {
     "name": "stdout",
     "output_type": "stream",
     "text": [
      "Datos para modelación (train): (5499, 15)\n",
      "Datos para predicción (validation): (289, 15)\n"
     ]
    }
   ],
   "source": [
    "data = mi_train.sample(frac = 0.95, random_state = 786)\n",
    "data_validation = mi_train.drop(data.index)\n",
    "data.reset_index(inplace = True, drop = True)\n",
    "data_validation.reset_index(inplace = True, drop = True)\n",
    "print('Datos para modelación (train): ' + str(data.shape))\n",
    "print('Datos para predicción (validation): ' + str(data_validation.shape))"
   ]
  },
  {
   "cell_type": "markdown",
   "metadata": {},
   "source": [
    "# `setup()` pycaret"
   ]
  },
  {
   "cell_type": "code",
   "execution_count": 53,
   "metadata": {},
   "outputs": [
    {
     "data": {
      "text/html": [
       "<style  type=\"text/css\" >\n",
       "#T_e51be483_3c82_11eb_abfd_a81e84a9863frow5_col1{\n",
       "            background-color:  lightgreen;\n",
       "        }</style><table id=\"T_e51be483_3c82_11eb_abfd_a81e84a9863f\" ><thead>    <tr>        <th class=\"blank level0\" ></th>        <th class=\"col_heading level0 col0\" >Description</th>        <th class=\"col_heading level0 col1\" >Value</th>    </tr></thead><tbody>\n",
       "                <tr>\n",
       "                        <th id=\"T_e51be483_3c82_11eb_abfd_a81e84a9863flevel0_row0\" class=\"row_heading level0 row0\" >0</th>\n",
       "                        <td id=\"T_e51be483_3c82_11eb_abfd_a81e84a9863frow0_col0\" class=\"data row0 col0\" >session_id</td>\n",
       "                        <td id=\"T_e51be483_3c82_11eb_abfd_a81e84a9863frow0_col1\" class=\"data row0 col1\" >1992</td>\n",
       "            </tr>\n",
       "            <tr>\n",
       "                        <th id=\"T_e51be483_3c82_11eb_abfd_a81e84a9863flevel0_row1\" class=\"row_heading level0 row1\" >1</th>\n",
       "                        <td id=\"T_e51be483_3c82_11eb_abfd_a81e84a9863frow1_col0\" class=\"data row1 col0\" >Target</td>\n",
       "                        <td id=\"T_e51be483_3c82_11eb_abfd_a81e84a9863frow1_col1\" class=\"data row1 col1\" >Rating</td>\n",
       "            </tr>\n",
       "            <tr>\n",
       "                        <th id=\"T_e51be483_3c82_11eb_abfd_a81e84a9863flevel0_row2\" class=\"row_heading level0 row2\" >2</th>\n",
       "                        <td id=\"T_e51be483_3c82_11eb_abfd_a81e84a9863frow2_col0\" class=\"data row2 col0\" >Target Type</td>\n",
       "                        <td id=\"T_e51be483_3c82_11eb_abfd_a81e84a9863frow2_col1\" class=\"data row2 col1\" >Binary</td>\n",
       "            </tr>\n",
       "            <tr>\n",
       "                        <th id=\"T_e51be483_3c82_11eb_abfd_a81e84a9863flevel0_row3\" class=\"row_heading level0 row3\" >3</th>\n",
       "                        <td id=\"T_e51be483_3c82_11eb_abfd_a81e84a9863frow3_col0\" class=\"data row3 col0\" >Label Encoded</td>\n",
       "                        <td id=\"T_e51be483_3c82_11eb_abfd_a81e84a9863frow3_col1\" class=\"data row3 col1\" >0: 0, 1: 1</td>\n",
       "            </tr>\n",
       "            <tr>\n",
       "                        <th id=\"T_e51be483_3c82_11eb_abfd_a81e84a9863flevel0_row4\" class=\"row_heading level0 row4\" >4</th>\n",
       "                        <td id=\"T_e51be483_3c82_11eb_abfd_a81e84a9863frow4_col0\" class=\"data row4 col0\" >Original Data</td>\n",
       "                        <td id=\"T_e51be483_3c82_11eb_abfd_a81e84a9863frow4_col1\" class=\"data row4 col1\" >(5499, 15)</td>\n",
       "            </tr>\n",
       "            <tr>\n",
       "                        <th id=\"T_e51be483_3c82_11eb_abfd_a81e84a9863flevel0_row5\" class=\"row_heading level0 row5\" >5</th>\n",
       "                        <td id=\"T_e51be483_3c82_11eb_abfd_a81e84a9863frow5_col0\" class=\"data row5 col0\" >Missing Values</td>\n",
       "                        <td id=\"T_e51be483_3c82_11eb_abfd_a81e84a9863frow5_col1\" class=\"data row5 col1\" >True</td>\n",
       "            </tr>\n",
       "            <tr>\n",
       "                        <th id=\"T_e51be483_3c82_11eb_abfd_a81e84a9863flevel0_row6\" class=\"row_heading level0 row6\" >6</th>\n",
       "                        <td id=\"T_e51be483_3c82_11eb_abfd_a81e84a9863frow6_col0\" class=\"data row6 col0\" >Numeric Features</td>\n",
       "                        <td id=\"T_e51be483_3c82_11eb_abfd_a81e84a9863frow6_col1\" class=\"data row6 col1\" >8</td>\n",
       "            </tr>\n",
       "            <tr>\n",
       "                        <th id=\"T_e51be483_3c82_11eb_abfd_a81e84a9863flevel0_row7\" class=\"row_heading level0 row7\" >7</th>\n",
       "                        <td id=\"T_e51be483_3c82_11eb_abfd_a81e84a9863frow7_col0\" class=\"data row7 col0\" >Categorical Features</td>\n",
       "                        <td id=\"T_e51be483_3c82_11eb_abfd_a81e84a9863frow7_col1\" class=\"data row7 col1\" >6</td>\n",
       "            </tr>\n",
       "            <tr>\n",
       "                        <th id=\"T_e51be483_3c82_11eb_abfd_a81e84a9863flevel0_row8\" class=\"row_heading level0 row8\" >8</th>\n",
       "                        <td id=\"T_e51be483_3c82_11eb_abfd_a81e84a9863frow8_col0\" class=\"data row8 col0\" >Ordinal Features</td>\n",
       "                        <td id=\"T_e51be483_3c82_11eb_abfd_a81e84a9863frow8_col1\" class=\"data row8 col1\" >False</td>\n",
       "            </tr>\n",
       "            <tr>\n",
       "                        <th id=\"T_e51be483_3c82_11eb_abfd_a81e84a9863flevel0_row9\" class=\"row_heading level0 row9\" >9</th>\n",
       "                        <td id=\"T_e51be483_3c82_11eb_abfd_a81e84a9863frow9_col0\" class=\"data row9 col0\" >High Cardinality Features</td>\n",
       "                        <td id=\"T_e51be483_3c82_11eb_abfd_a81e84a9863frow9_col1\" class=\"data row9 col1\" >False</td>\n",
       "            </tr>\n",
       "            <tr>\n",
       "                        <th id=\"T_e51be483_3c82_11eb_abfd_a81e84a9863flevel0_row10\" class=\"row_heading level0 row10\" >10</th>\n",
       "                        <td id=\"T_e51be483_3c82_11eb_abfd_a81e84a9863frow10_col0\" class=\"data row10 col0\" >High Cardinality Method</td>\n",
       "                        <td id=\"T_e51be483_3c82_11eb_abfd_a81e84a9863frow10_col1\" class=\"data row10 col1\" >None</td>\n",
       "            </tr>\n",
       "            <tr>\n",
       "                        <th id=\"T_e51be483_3c82_11eb_abfd_a81e84a9863flevel0_row11\" class=\"row_heading level0 row11\" >11</th>\n",
       "                        <td id=\"T_e51be483_3c82_11eb_abfd_a81e84a9863frow11_col0\" class=\"data row11 col0\" >Transformed Train Set</td>\n",
       "                        <td id=\"T_e51be483_3c82_11eb_abfd_a81e84a9863frow11_col1\" class=\"data row11 col1\" >(3849, 88)</td>\n",
       "            </tr>\n",
       "            <tr>\n",
       "                        <th id=\"T_e51be483_3c82_11eb_abfd_a81e84a9863flevel0_row12\" class=\"row_heading level0 row12\" >12</th>\n",
       "                        <td id=\"T_e51be483_3c82_11eb_abfd_a81e84a9863frow12_col0\" class=\"data row12 col0\" >Transformed Test Set</td>\n",
       "                        <td id=\"T_e51be483_3c82_11eb_abfd_a81e84a9863frow12_col1\" class=\"data row12 col1\" >(1650, 88)</td>\n",
       "            </tr>\n",
       "            <tr>\n",
       "                        <th id=\"T_e51be483_3c82_11eb_abfd_a81e84a9863flevel0_row13\" class=\"row_heading level0 row13\" >13</th>\n",
       "                        <td id=\"T_e51be483_3c82_11eb_abfd_a81e84a9863frow13_col0\" class=\"data row13 col0\" >Shuffle Train-Test</td>\n",
       "                        <td id=\"T_e51be483_3c82_11eb_abfd_a81e84a9863frow13_col1\" class=\"data row13 col1\" >True</td>\n",
       "            </tr>\n",
       "            <tr>\n",
       "                        <th id=\"T_e51be483_3c82_11eb_abfd_a81e84a9863flevel0_row14\" class=\"row_heading level0 row14\" >14</th>\n",
       "                        <td id=\"T_e51be483_3c82_11eb_abfd_a81e84a9863frow14_col0\" class=\"data row14 col0\" >Stratify Train-Test</td>\n",
       "                        <td id=\"T_e51be483_3c82_11eb_abfd_a81e84a9863frow14_col1\" class=\"data row14 col1\" >False</td>\n",
       "            </tr>\n",
       "            <tr>\n",
       "                        <th id=\"T_e51be483_3c82_11eb_abfd_a81e84a9863flevel0_row15\" class=\"row_heading level0 row15\" >15</th>\n",
       "                        <td id=\"T_e51be483_3c82_11eb_abfd_a81e84a9863frow15_col0\" class=\"data row15 col0\" >Fold Generator</td>\n",
       "                        <td id=\"T_e51be483_3c82_11eb_abfd_a81e84a9863frow15_col1\" class=\"data row15 col1\" >StratifiedKFold</td>\n",
       "            </tr>\n",
       "            <tr>\n",
       "                        <th id=\"T_e51be483_3c82_11eb_abfd_a81e84a9863flevel0_row16\" class=\"row_heading level0 row16\" >16</th>\n",
       "                        <td id=\"T_e51be483_3c82_11eb_abfd_a81e84a9863frow16_col0\" class=\"data row16 col0\" >Fold Number</td>\n",
       "                        <td id=\"T_e51be483_3c82_11eb_abfd_a81e84a9863frow16_col1\" class=\"data row16 col1\" >10</td>\n",
       "            </tr>\n",
       "            <tr>\n",
       "                        <th id=\"T_e51be483_3c82_11eb_abfd_a81e84a9863flevel0_row17\" class=\"row_heading level0 row17\" >17</th>\n",
       "                        <td id=\"T_e51be483_3c82_11eb_abfd_a81e84a9863frow17_col0\" class=\"data row17 col0\" >CPU Jobs</td>\n",
       "                        <td id=\"T_e51be483_3c82_11eb_abfd_a81e84a9863frow17_col1\" class=\"data row17 col1\" >-1</td>\n",
       "            </tr>\n",
       "            <tr>\n",
       "                        <th id=\"T_e51be483_3c82_11eb_abfd_a81e84a9863flevel0_row18\" class=\"row_heading level0 row18\" >18</th>\n",
       "                        <td id=\"T_e51be483_3c82_11eb_abfd_a81e84a9863frow18_col0\" class=\"data row18 col0\" >Use GPU</td>\n",
       "                        <td id=\"T_e51be483_3c82_11eb_abfd_a81e84a9863frow18_col1\" class=\"data row18 col1\" >False</td>\n",
       "            </tr>\n",
       "            <tr>\n",
       "                        <th id=\"T_e51be483_3c82_11eb_abfd_a81e84a9863flevel0_row19\" class=\"row_heading level0 row19\" >19</th>\n",
       "                        <td id=\"T_e51be483_3c82_11eb_abfd_a81e84a9863frow19_col0\" class=\"data row19 col0\" >Log Experiment</td>\n",
       "                        <td id=\"T_e51be483_3c82_11eb_abfd_a81e84a9863frow19_col1\" class=\"data row19 col1\" >False</td>\n",
       "            </tr>\n",
       "            <tr>\n",
       "                        <th id=\"T_e51be483_3c82_11eb_abfd_a81e84a9863flevel0_row20\" class=\"row_heading level0 row20\" >20</th>\n",
       "                        <td id=\"T_e51be483_3c82_11eb_abfd_a81e84a9863frow20_col0\" class=\"data row20 col0\" >Experiment Name</td>\n",
       "                        <td id=\"T_e51be483_3c82_11eb_abfd_a81e84a9863frow20_col1\" class=\"data row20 col1\" >clf-default-name</td>\n",
       "            </tr>\n",
       "            <tr>\n",
       "                        <th id=\"T_e51be483_3c82_11eb_abfd_a81e84a9863flevel0_row21\" class=\"row_heading level0 row21\" >21</th>\n",
       "                        <td id=\"T_e51be483_3c82_11eb_abfd_a81e84a9863frow21_col0\" class=\"data row21 col0\" >USI</td>\n",
       "                        <td id=\"T_e51be483_3c82_11eb_abfd_a81e84a9863frow21_col1\" class=\"data row21 col1\" >e744</td>\n",
       "            </tr>\n",
       "            <tr>\n",
       "                        <th id=\"T_e51be483_3c82_11eb_abfd_a81e84a9863flevel0_row22\" class=\"row_heading level0 row22\" >22</th>\n",
       "                        <td id=\"T_e51be483_3c82_11eb_abfd_a81e84a9863frow22_col0\" class=\"data row22 col0\" >Imputation Type</td>\n",
       "                        <td id=\"T_e51be483_3c82_11eb_abfd_a81e84a9863frow22_col1\" class=\"data row22 col1\" >simple</td>\n",
       "            </tr>\n",
       "            <tr>\n",
       "                        <th id=\"T_e51be483_3c82_11eb_abfd_a81e84a9863flevel0_row23\" class=\"row_heading level0 row23\" >23</th>\n",
       "                        <td id=\"T_e51be483_3c82_11eb_abfd_a81e84a9863frow23_col0\" class=\"data row23 col0\" >Iterative Imputation Iteration</td>\n",
       "                        <td id=\"T_e51be483_3c82_11eb_abfd_a81e84a9863frow23_col1\" class=\"data row23 col1\" >None</td>\n",
       "            </tr>\n",
       "            <tr>\n",
       "                        <th id=\"T_e51be483_3c82_11eb_abfd_a81e84a9863flevel0_row24\" class=\"row_heading level0 row24\" >24</th>\n",
       "                        <td id=\"T_e51be483_3c82_11eb_abfd_a81e84a9863frow24_col0\" class=\"data row24 col0\" >Numeric Imputer</td>\n",
       "                        <td id=\"T_e51be483_3c82_11eb_abfd_a81e84a9863frow24_col1\" class=\"data row24 col1\" >mean</td>\n",
       "            </tr>\n",
       "            <tr>\n",
       "                        <th id=\"T_e51be483_3c82_11eb_abfd_a81e84a9863flevel0_row25\" class=\"row_heading level0 row25\" >25</th>\n",
       "                        <td id=\"T_e51be483_3c82_11eb_abfd_a81e84a9863frow25_col0\" class=\"data row25 col0\" >Iterative Imputation Numeric Model</td>\n",
       "                        <td id=\"T_e51be483_3c82_11eb_abfd_a81e84a9863frow25_col1\" class=\"data row25 col1\" >None</td>\n",
       "            </tr>\n",
       "            <tr>\n",
       "                        <th id=\"T_e51be483_3c82_11eb_abfd_a81e84a9863flevel0_row26\" class=\"row_heading level0 row26\" >26</th>\n",
       "                        <td id=\"T_e51be483_3c82_11eb_abfd_a81e84a9863frow26_col0\" class=\"data row26 col0\" >Categorical Imputer</td>\n",
       "                        <td id=\"T_e51be483_3c82_11eb_abfd_a81e84a9863frow26_col1\" class=\"data row26 col1\" >constant</td>\n",
       "            </tr>\n",
       "            <tr>\n",
       "                        <th id=\"T_e51be483_3c82_11eb_abfd_a81e84a9863flevel0_row27\" class=\"row_heading level0 row27\" >27</th>\n",
       "                        <td id=\"T_e51be483_3c82_11eb_abfd_a81e84a9863frow27_col0\" class=\"data row27 col0\" >Iterative Imputation Categorical Model</td>\n",
       "                        <td id=\"T_e51be483_3c82_11eb_abfd_a81e84a9863frow27_col1\" class=\"data row27 col1\" >None</td>\n",
       "            </tr>\n",
       "            <tr>\n",
       "                        <th id=\"T_e51be483_3c82_11eb_abfd_a81e84a9863flevel0_row28\" class=\"row_heading level0 row28\" >28</th>\n",
       "                        <td id=\"T_e51be483_3c82_11eb_abfd_a81e84a9863frow28_col0\" class=\"data row28 col0\" >Unknown Categoricals Handling</td>\n",
       "                        <td id=\"T_e51be483_3c82_11eb_abfd_a81e84a9863frow28_col1\" class=\"data row28 col1\" >least_frequent</td>\n",
       "            </tr>\n",
       "            <tr>\n",
       "                        <th id=\"T_e51be483_3c82_11eb_abfd_a81e84a9863flevel0_row29\" class=\"row_heading level0 row29\" >29</th>\n",
       "                        <td id=\"T_e51be483_3c82_11eb_abfd_a81e84a9863frow29_col0\" class=\"data row29 col0\" >Normalize</td>\n",
       "                        <td id=\"T_e51be483_3c82_11eb_abfd_a81e84a9863frow29_col1\" class=\"data row29 col1\" >False</td>\n",
       "            </tr>\n",
       "            <tr>\n",
       "                        <th id=\"T_e51be483_3c82_11eb_abfd_a81e84a9863flevel0_row30\" class=\"row_heading level0 row30\" >30</th>\n",
       "                        <td id=\"T_e51be483_3c82_11eb_abfd_a81e84a9863frow30_col0\" class=\"data row30 col0\" >Normalize Method</td>\n",
       "                        <td id=\"T_e51be483_3c82_11eb_abfd_a81e84a9863frow30_col1\" class=\"data row30 col1\" >None</td>\n",
       "            </tr>\n",
       "            <tr>\n",
       "                        <th id=\"T_e51be483_3c82_11eb_abfd_a81e84a9863flevel0_row31\" class=\"row_heading level0 row31\" >31</th>\n",
       "                        <td id=\"T_e51be483_3c82_11eb_abfd_a81e84a9863frow31_col0\" class=\"data row31 col0\" >Transformation</td>\n",
       "                        <td id=\"T_e51be483_3c82_11eb_abfd_a81e84a9863frow31_col1\" class=\"data row31 col1\" >False</td>\n",
       "            </tr>\n",
       "            <tr>\n",
       "                        <th id=\"T_e51be483_3c82_11eb_abfd_a81e84a9863flevel0_row32\" class=\"row_heading level0 row32\" >32</th>\n",
       "                        <td id=\"T_e51be483_3c82_11eb_abfd_a81e84a9863frow32_col0\" class=\"data row32 col0\" >Transformation Method</td>\n",
       "                        <td id=\"T_e51be483_3c82_11eb_abfd_a81e84a9863frow32_col1\" class=\"data row32 col1\" >None</td>\n",
       "            </tr>\n",
       "            <tr>\n",
       "                        <th id=\"T_e51be483_3c82_11eb_abfd_a81e84a9863flevel0_row33\" class=\"row_heading level0 row33\" >33</th>\n",
       "                        <td id=\"T_e51be483_3c82_11eb_abfd_a81e84a9863frow33_col0\" class=\"data row33 col0\" >PCA</td>\n",
       "                        <td id=\"T_e51be483_3c82_11eb_abfd_a81e84a9863frow33_col1\" class=\"data row33 col1\" >False</td>\n",
       "            </tr>\n",
       "            <tr>\n",
       "                        <th id=\"T_e51be483_3c82_11eb_abfd_a81e84a9863flevel0_row34\" class=\"row_heading level0 row34\" >34</th>\n",
       "                        <td id=\"T_e51be483_3c82_11eb_abfd_a81e84a9863frow34_col0\" class=\"data row34 col0\" >PCA Method</td>\n",
       "                        <td id=\"T_e51be483_3c82_11eb_abfd_a81e84a9863frow34_col1\" class=\"data row34 col1\" >None</td>\n",
       "            </tr>\n",
       "            <tr>\n",
       "                        <th id=\"T_e51be483_3c82_11eb_abfd_a81e84a9863flevel0_row35\" class=\"row_heading level0 row35\" >35</th>\n",
       "                        <td id=\"T_e51be483_3c82_11eb_abfd_a81e84a9863frow35_col0\" class=\"data row35 col0\" >PCA Components</td>\n",
       "                        <td id=\"T_e51be483_3c82_11eb_abfd_a81e84a9863frow35_col1\" class=\"data row35 col1\" >None</td>\n",
       "            </tr>\n",
       "            <tr>\n",
       "                        <th id=\"T_e51be483_3c82_11eb_abfd_a81e84a9863flevel0_row36\" class=\"row_heading level0 row36\" >36</th>\n",
       "                        <td id=\"T_e51be483_3c82_11eb_abfd_a81e84a9863frow36_col0\" class=\"data row36 col0\" >Ignore Low Variance</td>\n",
       "                        <td id=\"T_e51be483_3c82_11eb_abfd_a81e84a9863frow36_col1\" class=\"data row36 col1\" >False</td>\n",
       "            </tr>\n",
       "            <tr>\n",
       "                        <th id=\"T_e51be483_3c82_11eb_abfd_a81e84a9863flevel0_row37\" class=\"row_heading level0 row37\" >37</th>\n",
       "                        <td id=\"T_e51be483_3c82_11eb_abfd_a81e84a9863frow37_col0\" class=\"data row37 col0\" >Combine Rare Levels</td>\n",
       "                        <td id=\"T_e51be483_3c82_11eb_abfd_a81e84a9863frow37_col1\" class=\"data row37 col1\" >False</td>\n",
       "            </tr>\n",
       "            <tr>\n",
       "                        <th id=\"T_e51be483_3c82_11eb_abfd_a81e84a9863flevel0_row38\" class=\"row_heading level0 row38\" >38</th>\n",
       "                        <td id=\"T_e51be483_3c82_11eb_abfd_a81e84a9863frow38_col0\" class=\"data row38 col0\" >Rare Level Threshold</td>\n",
       "                        <td id=\"T_e51be483_3c82_11eb_abfd_a81e84a9863frow38_col1\" class=\"data row38 col1\" >None</td>\n",
       "            </tr>\n",
       "            <tr>\n",
       "                        <th id=\"T_e51be483_3c82_11eb_abfd_a81e84a9863flevel0_row39\" class=\"row_heading level0 row39\" >39</th>\n",
       "                        <td id=\"T_e51be483_3c82_11eb_abfd_a81e84a9863frow39_col0\" class=\"data row39 col0\" >Numeric Binning</td>\n",
       "                        <td id=\"T_e51be483_3c82_11eb_abfd_a81e84a9863frow39_col1\" class=\"data row39 col1\" >False</td>\n",
       "            </tr>\n",
       "            <tr>\n",
       "                        <th id=\"T_e51be483_3c82_11eb_abfd_a81e84a9863flevel0_row40\" class=\"row_heading level0 row40\" >40</th>\n",
       "                        <td id=\"T_e51be483_3c82_11eb_abfd_a81e84a9863frow40_col0\" class=\"data row40 col0\" >Remove Outliers</td>\n",
       "                        <td id=\"T_e51be483_3c82_11eb_abfd_a81e84a9863frow40_col1\" class=\"data row40 col1\" >False</td>\n",
       "            </tr>\n",
       "            <tr>\n",
       "                        <th id=\"T_e51be483_3c82_11eb_abfd_a81e84a9863flevel0_row41\" class=\"row_heading level0 row41\" >41</th>\n",
       "                        <td id=\"T_e51be483_3c82_11eb_abfd_a81e84a9863frow41_col0\" class=\"data row41 col0\" >Outliers Threshold</td>\n",
       "                        <td id=\"T_e51be483_3c82_11eb_abfd_a81e84a9863frow41_col1\" class=\"data row41 col1\" >None</td>\n",
       "            </tr>\n",
       "            <tr>\n",
       "                        <th id=\"T_e51be483_3c82_11eb_abfd_a81e84a9863flevel0_row42\" class=\"row_heading level0 row42\" >42</th>\n",
       "                        <td id=\"T_e51be483_3c82_11eb_abfd_a81e84a9863frow42_col0\" class=\"data row42 col0\" >Remove Multicollinearity</td>\n",
       "                        <td id=\"T_e51be483_3c82_11eb_abfd_a81e84a9863frow42_col1\" class=\"data row42 col1\" >False</td>\n",
       "            </tr>\n",
       "            <tr>\n",
       "                        <th id=\"T_e51be483_3c82_11eb_abfd_a81e84a9863flevel0_row43\" class=\"row_heading level0 row43\" >43</th>\n",
       "                        <td id=\"T_e51be483_3c82_11eb_abfd_a81e84a9863frow43_col0\" class=\"data row43 col0\" >Multicollinearity Threshold</td>\n",
       "                        <td id=\"T_e51be483_3c82_11eb_abfd_a81e84a9863frow43_col1\" class=\"data row43 col1\" >None</td>\n",
       "            </tr>\n",
       "            <tr>\n",
       "                        <th id=\"T_e51be483_3c82_11eb_abfd_a81e84a9863flevel0_row44\" class=\"row_heading level0 row44\" >44</th>\n",
       "                        <td id=\"T_e51be483_3c82_11eb_abfd_a81e84a9863frow44_col0\" class=\"data row44 col0\" >Clustering</td>\n",
       "                        <td id=\"T_e51be483_3c82_11eb_abfd_a81e84a9863frow44_col1\" class=\"data row44 col1\" >False</td>\n",
       "            </tr>\n",
       "            <tr>\n",
       "                        <th id=\"T_e51be483_3c82_11eb_abfd_a81e84a9863flevel0_row45\" class=\"row_heading level0 row45\" >45</th>\n",
       "                        <td id=\"T_e51be483_3c82_11eb_abfd_a81e84a9863frow45_col0\" class=\"data row45 col0\" >Clustering Iteration</td>\n",
       "                        <td id=\"T_e51be483_3c82_11eb_abfd_a81e84a9863frow45_col1\" class=\"data row45 col1\" >None</td>\n",
       "            </tr>\n",
       "            <tr>\n",
       "                        <th id=\"T_e51be483_3c82_11eb_abfd_a81e84a9863flevel0_row46\" class=\"row_heading level0 row46\" >46</th>\n",
       "                        <td id=\"T_e51be483_3c82_11eb_abfd_a81e84a9863frow46_col0\" class=\"data row46 col0\" >Polynomial Features</td>\n",
       "                        <td id=\"T_e51be483_3c82_11eb_abfd_a81e84a9863frow46_col1\" class=\"data row46 col1\" >False</td>\n",
       "            </tr>\n",
       "            <tr>\n",
       "                        <th id=\"T_e51be483_3c82_11eb_abfd_a81e84a9863flevel0_row47\" class=\"row_heading level0 row47\" >47</th>\n",
       "                        <td id=\"T_e51be483_3c82_11eb_abfd_a81e84a9863frow47_col0\" class=\"data row47 col0\" >Polynomial Degree</td>\n",
       "                        <td id=\"T_e51be483_3c82_11eb_abfd_a81e84a9863frow47_col1\" class=\"data row47 col1\" >None</td>\n",
       "            </tr>\n",
       "            <tr>\n",
       "                        <th id=\"T_e51be483_3c82_11eb_abfd_a81e84a9863flevel0_row48\" class=\"row_heading level0 row48\" >48</th>\n",
       "                        <td id=\"T_e51be483_3c82_11eb_abfd_a81e84a9863frow48_col0\" class=\"data row48 col0\" >Trignometry Features</td>\n",
       "                        <td id=\"T_e51be483_3c82_11eb_abfd_a81e84a9863frow48_col1\" class=\"data row48 col1\" >False</td>\n",
       "            </tr>\n",
       "            <tr>\n",
       "                        <th id=\"T_e51be483_3c82_11eb_abfd_a81e84a9863flevel0_row49\" class=\"row_heading level0 row49\" >49</th>\n",
       "                        <td id=\"T_e51be483_3c82_11eb_abfd_a81e84a9863frow49_col0\" class=\"data row49 col0\" >Polynomial Threshold</td>\n",
       "                        <td id=\"T_e51be483_3c82_11eb_abfd_a81e84a9863frow49_col1\" class=\"data row49 col1\" >None</td>\n",
       "            </tr>\n",
       "            <tr>\n",
       "                        <th id=\"T_e51be483_3c82_11eb_abfd_a81e84a9863flevel0_row50\" class=\"row_heading level0 row50\" >50</th>\n",
       "                        <td id=\"T_e51be483_3c82_11eb_abfd_a81e84a9863frow50_col0\" class=\"data row50 col0\" >Group Features</td>\n",
       "                        <td id=\"T_e51be483_3c82_11eb_abfd_a81e84a9863frow50_col1\" class=\"data row50 col1\" >False</td>\n",
       "            </tr>\n",
       "            <tr>\n",
       "                        <th id=\"T_e51be483_3c82_11eb_abfd_a81e84a9863flevel0_row51\" class=\"row_heading level0 row51\" >51</th>\n",
       "                        <td id=\"T_e51be483_3c82_11eb_abfd_a81e84a9863frow51_col0\" class=\"data row51 col0\" >Feature Selection</td>\n",
       "                        <td id=\"T_e51be483_3c82_11eb_abfd_a81e84a9863frow51_col1\" class=\"data row51 col1\" >False</td>\n",
       "            </tr>\n",
       "            <tr>\n",
       "                        <th id=\"T_e51be483_3c82_11eb_abfd_a81e84a9863flevel0_row52\" class=\"row_heading level0 row52\" >52</th>\n",
       "                        <td id=\"T_e51be483_3c82_11eb_abfd_a81e84a9863frow52_col0\" class=\"data row52 col0\" >Features Selection Threshold</td>\n",
       "                        <td id=\"T_e51be483_3c82_11eb_abfd_a81e84a9863frow52_col1\" class=\"data row52 col1\" >None</td>\n",
       "            </tr>\n",
       "            <tr>\n",
       "                        <th id=\"T_e51be483_3c82_11eb_abfd_a81e84a9863flevel0_row53\" class=\"row_heading level0 row53\" >53</th>\n",
       "                        <td id=\"T_e51be483_3c82_11eb_abfd_a81e84a9863frow53_col0\" class=\"data row53 col0\" >Feature Interaction</td>\n",
       "                        <td id=\"T_e51be483_3c82_11eb_abfd_a81e84a9863frow53_col1\" class=\"data row53 col1\" >False</td>\n",
       "            </tr>\n",
       "            <tr>\n",
       "                        <th id=\"T_e51be483_3c82_11eb_abfd_a81e84a9863flevel0_row54\" class=\"row_heading level0 row54\" >54</th>\n",
       "                        <td id=\"T_e51be483_3c82_11eb_abfd_a81e84a9863frow54_col0\" class=\"data row54 col0\" >Feature Ratio</td>\n",
       "                        <td id=\"T_e51be483_3c82_11eb_abfd_a81e84a9863frow54_col1\" class=\"data row54 col1\" >False</td>\n",
       "            </tr>\n",
       "            <tr>\n",
       "                        <th id=\"T_e51be483_3c82_11eb_abfd_a81e84a9863flevel0_row55\" class=\"row_heading level0 row55\" >55</th>\n",
       "                        <td id=\"T_e51be483_3c82_11eb_abfd_a81e84a9863frow55_col0\" class=\"data row55 col0\" >Interaction Threshold</td>\n",
       "                        <td id=\"T_e51be483_3c82_11eb_abfd_a81e84a9863frow55_col1\" class=\"data row55 col1\" >None</td>\n",
       "            </tr>\n",
       "            <tr>\n",
       "                        <th id=\"T_e51be483_3c82_11eb_abfd_a81e84a9863flevel0_row56\" class=\"row_heading level0 row56\" >56</th>\n",
       "                        <td id=\"T_e51be483_3c82_11eb_abfd_a81e84a9863frow56_col0\" class=\"data row56 col0\" >Fix Imbalance</td>\n",
       "                        <td id=\"T_e51be483_3c82_11eb_abfd_a81e84a9863frow56_col1\" class=\"data row56 col1\" >False</td>\n",
       "            </tr>\n",
       "            <tr>\n",
       "                        <th id=\"T_e51be483_3c82_11eb_abfd_a81e84a9863flevel0_row57\" class=\"row_heading level0 row57\" >57</th>\n",
       "                        <td id=\"T_e51be483_3c82_11eb_abfd_a81e84a9863frow57_col0\" class=\"data row57 col0\" >Fix Imbalance Method</td>\n",
       "                        <td id=\"T_e51be483_3c82_11eb_abfd_a81e84a9863frow57_col1\" class=\"data row57 col1\" >SMOTE</td>\n",
       "            </tr>\n",
       "    </tbody></table>"
      ],
      "text/plain": [
       "<pandas.io.formats.style.Styler at 0x24f32be8e50>"
      ]
     },
     "metadata": {},
     "output_type": "display_data"
    }
   ],
   "source": [
    "from pycaret.classification import *\n",
    "mi_config = setup(data = data, target = \"Rating\", session_id = 1992)"
   ]
  },
  {
   "cell_type": "markdown",
   "metadata": {},
   "source": [
    "# Comparando modelos"
   ]
  },
  {
   "cell_type": "code",
   "execution_count": 54,
   "metadata": {},
   "outputs": [
    {
     "data": {
      "text/html": [
       "<style  type=\"text/css\" >\n",
       "    #T_4490e9be_3c83_11eb_8b27_a81e84a9863f th {\n",
       "          text-align: left;\n",
       "    }#T_4490e9be_3c83_11eb_8b27_a81e84a9863frow0_col0,#T_4490e9be_3c83_11eb_8b27_a81e84a9863frow0_col3,#T_4490e9be_3c83_11eb_8b27_a81e84a9863frow0_col4,#T_4490e9be_3c83_11eb_8b27_a81e84a9863frow0_col5,#T_4490e9be_3c83_11eb_8b27_a81e84a9863frow0_col6,#T_4490e9be_3c83_11eb_8b27_a81e84a9863frow0_col7,#T_4490e9be_3c83_11eb_8b27_a81e84a9863frow1_col0,#T_4490e9be_3c83_11eb_8b27_a81e84a9863frow1_col1,#T_4490e9be_3c83_11eb_8b27_a81e84a9863frow1_col2,#T_4490e9be_3c83_11eb_8b27_a81e84a9863frow1_col3,#T_4490e9be_3c83_11eb_8b27_a81e84a9863frow1_col4,#T_4490e9be_3c83_11eb_8b27_a81e84a9863frow1_col5,#T_4490e9be_3c83_11eb_8b27_a81e84a9863frow1_col6,#T_4490e9be_3c83_11eb_8b27_a81e84a9863frow1_col7,#T_4490e9be_3c83_11eb_8b27_a81e84a9863frow2_col0,#T_4490e9be_3c83_11eb_8b27_a81e84a9863frow2_col1,#T_4490e9be_3c83_11eb_8b27_a81e84a9863frow2_col2,#T_4490e9be_3c83_11eb_8b27_a81e84a9863frow2_col3,#T_4490e9be_3c83_11eb_8b27_a81e84a9863frow2_col4,#T_4490e9be_3c83_11eb_8b27_a81e84a9863frow2_col5,#T_4490e9be_3c83_11eb_8b27_a81e84a9863frow2_col6,#T_4490e9be_3c83_11eb_8b27_a81e84a9863frow2_col7,#T_4490e9be_3c83_11eb_8b27_a81e84a9863frow3_col0,#T_4490e9be_3c83_11eb_8b27_a81e84a9863frow3_col1,#T_4490e9be_3c83_11eb_8b27_a81e84a9863frow3_col2,#T_4490e9be_3c83_11eb_8b27_a81e84a9863frow3_col3,#T_4490e9be_3c83_11eb_8b27_a81e84a9863frow3_col4,#T_4490e9be_3c83_11eb_8b27_a81e84a9863frow3_col5,#T_4490e9be_3c83_11eb_8b27_a81e84a9863frow3_col6,#T_4490e9be_3c83_11eb_8b27_a81e84a9863frow3_col7,#T_4490e9be_3c83_11eb_8b27_a81e84a9863frow4_col0,#T_4490e9be_3c83_11eb_8b27_a81e84a9863frow4_col1,#T_4490e9be_3c83_11eb_8b27_a81e84a9863frow4_col2,#T_4490e9be_3c83_11eb_8b27_a81e84a9863frow4_col3,#T_4490e9be_3c83_11eb_8b27_a81e84a9863frow4_col5,#T_4490e9be_3c83_11eb_8b27_a81e84a9863frow5_col0,#T_4490e9be_3c83_11eb_8b27_a81e84a9863frow5_col1,#T_4490e9be_3c83_11eb_8b27_a81e84a9863frow5_col2,#T_4490e9be_3c83_11eb_8b27_a81e84a9863frow5_col3,#T_4490e9be_3c83_11eb_8b27_a81e84a9863frow5_col4,#T_4490e9be_3c83_11eb_8b27_a81e84a9863frow5_col5,#T_4490e9be_3c83_11eb_8b27_a81e84a9863frow5_col6,#T_4490e9be_3c83_11eb_8b27_a81e84a9863frow5_col7,#T_4490e9be_3c83_11eb_8b27_a81e84a9863frow6_col0,#T_4490e9be_3c83_11eb_8b27_a81e84a9863frow6_col1,#T_4490e9be_3c83_11eb_8b27_a81e84a9863frow6_col2,#T_4490e9be_3c83_11eb_8b27_a81e84a9863frow6_col4,#T_4490e9be_3c83_11eb_8b27_a81e84a9863frow6_col6,#T_4490e9be_3c83_11eb_8b27_a81e84a9863frow6_col7,#T_4490e9be_3c83_11eb_8b27_a81e84a9863frow7_col0,#T_4490e9be_3c83_11eb_8b27_a81e84a9863frow7_col1,#T_4490e9be_3c83_11eb_8b27_a81e84a9863frow7_col2,#T_4490e9be_3c83_11eb_8b27_a81e84a9863frow7_col3,#T_4490e9be_3c83_11eb_8b27_a81e84a9863frow7_col4,#T_4490e9be_3c83_11eb_8b27_a81e84a9863frow7_col5,#T_4490e9be_3c83_11eb_8b27_a81e84a9863frow7_col6,#T_4490e9be_3c83_11eb_8b27_a81e84a9863frow7_col7,#T_4490e9be_3c83_11eb_8b27_a81e84a9863frow8_col0,#T_4490e9be_3c83_11eb_8b27_a81e84a9863frow8_col1,#T_4490e9be_3c83_11eb_8b27_a81e84a9863frow8_col2,#T_4490e9be_3c83_11eb_8b27_a81e84a9863frow8_col3,#T_4490e9be_3c83_11eb_8b27_a81e84a9863frow8_col4,#T_4490e9be_3c83_11eb_8b27_a81e84a9863frow8_col5,#T_4490e9be_3c83_11eb_8b27_a81e84a9863frow8_col6,#T_4490e9be_3c83_11eb_8b27_a81e84a9863frow8_col7,#T_4490e9be_3c83_11eb_8b27_a81e84a9863frow9_col0,#T_4490e9be_3c83_11eb_8b27_a81e84a9863frow9_col1,#T_4490e9be_3c83_11eb_8b27_a81e84a9863frow9_col2,#T_4490e9be_3c83_11eb_8b27_a81e84a9863frow9_col3,#T_4490e9be_3c83_11eb_8b27_a81e84a9863frow9_col4,#T_4490e9be_3c83_11eb_8b27_a81e84a9863frow9_col5,#T_4490e9be_3c83_11eb_8b27_a81e84a9863frow9_col6,#T_4490e9be_3c83_11eb_8b27_a81e84a9863frow9_col7,#T_4490e9be_3c83_11eb_8b27_a81e84a9863frow10_col0,#T_4490e9be_3c83_11eb_8b27_a81e84a9863frow10_col1,#T_4490e9be_3c83_11eb_8b27_a81e84a9863frow10_col2,#T_4490e9be_3c83_11eb_8b27_a81e84a9863frow10_col3,#T_4490e9be_3c83_11eb_8b27_a81e84a9863frow10_col4,#T_4490e9be_3c83_11eb_8b27_a81e84a9863frow10_col5,#T_4490e9be_3c83_11eb_8b27_a81e84a9863frow10_col6,#T_4490e9be_3c83_11eb_8b27_a81e84a9863frow10_col7,#T_4490e9be_3c83_11eb_8b27_a81e84a9863frow11_col0,#T_4490e9be_3c83_11eb_8b27_a81e84a9863frow11_col1,#T_4490e9be_3c83_11eb_8b27_a81e84a9863frow11_col2,#T_4490e9be_3c83_11eb_8b27_a81e84a9863frow11_col3,#T_4490e9be_3c83_11eb_8b27_a81e84a9863frow11_col4,#T_4490e9be_3c83_11eb_8b27_a81e84a9863frow11_col5,#T_4490e9be_3c83_11eb_8b27_a81e84a9863frow11_col6,#T_4490e9be_3c83_11eb_8b27_a81e84a9863frow11_col7,#T_4490e9be_3c83_11eb_8b27_a81e84a9863frow12_col0,#T_4490e9be_3c83_11eb_8b27_a81e84a9863frow12_col1,#T_4490e9be_3c83_11eb_8b27_a81e84a9863frow12_col2,#T_4490e9be_3c83_11eb_8b27_a81e84a9863frow12_col3,#T_4490e9be_3c83_11eb_8b27_a81e84a9863frow12_col4,#T_4490e9be_3c83_11eb_8b27_a81e84a9863frow12_col5,#T_4490e9be_3c83_11eb_8b27_a81e84a9863frow12_col6,#T_4490e9be_3c83_11eb_8b27_a81e84a9863frow12_col7,#T_4490e9be_3c83_11eb_8b27_a81e84a9863frow13_col0,#T_4490e9be_3c83_11eb_8b27_a81e84a9863frow13_col1,#T_4490e9be_3c83_11eb_8b27_a81e84a9863frow13_col2,#T_4490e9be_3c83_11eb_8b27_a81e84a9863frow13_col3,#T_4490e9be_3c83_11eb_8b27_a81e84a9863frow13_col4,#T_4490e9be_3c83_11eb_8b27_a81e84a9863frow13_col5,#T_4490e9be_3c83_11eb_8b27_a81e84a9863frow13_col6,#T_4490e9be_3c83_11eb_8b27_a81e84a9863frow13_col7,#T_4490e9be_3c83_11eb_8b27_a81e84a9863frow14_col0,#T_4490e9be_3c83_11eb_8b27_a81e84a9863frow14_col1,#T_4490e9be_3c83_11eb_8b27_a81e84a9863frow14_col2,#T_4490e9be_3c83_11eb_8b27_a81e84a9863frow14_col3,#T_4490e9be_3c83_11eb_8b27_a81e84a9863frow14_col4,#T_4490e9be_3c83_11eb_8b27_a81e84a9863frow14_col5,#T_4490e9be_3c83_11eb_8b27_a81e84a9863frow14_col6,#T_4490e9be_3c83_11eb_8b27_a81e84a9863frow14_col7{\n",
       "            text-align:  left;\n",
       "            text-align:  left;\n",
       "        }#T_4490e9be_3c83_11eb_8b27_a81e84a9863frow0_col1,#T_4490e9be_3c83_11eb_8b27_a81e84a9863frow0_col2,#T_4490e9be_3c83_11eb_8b27_a81e84a9863frow4_col4,#T_4490e9be_3c83_11eb_8b27_a81e84a9863frow4_col6,#T_4490e9be_3c83_11eb_8b27_a81e84a9863frow4_col7,#T_4490e9be_3c83_11eb_8b27_a81e84a9863frow6_col3,#T_4490e9be_3c83_11eb_8b27_a81e84a9863frow6_col5{\n",
       "            text-align:  left;\n",
       "            text-align:  left;\n",
       "            background-color:  yellow;\n",
       "        }#T_4490e9be_3c83_11eb_8b27_a81e84a9863frow0_col8,#T_4490e9be_3c83_11eb_8b27_a81e84a9863frow1_col8,#T_4490e9be_3c83_11eb_8b27_a81e84a9863frow2_col8,#T_4490e9be_3c83_11eb_8b27_a81e84a9863frow3_col8,#T_4490e9be_3c83_11eb_8b27_a81e84a9863frow4_col8,#T_4490e9be_3c83_11eb_8b27_a81e84a9863frow5_col8,#T_4490e9be_3c83_11eb_8b27_a81e84a9863frow6_col8,#T_4490e9be_3c83_11eb_8b27_a81e84a9863frow7_col8,#T_4490e9be_3c83_11eb_8b27_a81e84a9863frow9_col8,#T_4490e9be_3c83_11eb_8b27_a81e84a9863frow10_col8,#T_4490e9be_3c83_11eb_8b27_a81e84a9863frow12_col8,#T_4490e9be_3c83_11eb_8b27_a81e84a9863frow13_col8,#T_4490e9be_3c83_11eb_8b27_a81e84a9863frow14_col8{\n",
       "            text-align:  left;\n",
       "            text-align:  left;\n",
       "            background-color:  lightgrey;\n",
       "        }#T_4490e9be_3c83_11eb_8b27_a81e84a9863frow8_col8,#T_4490e9be_3c83_11eb_8b27_a81e84a9863frow11_col8{\n",
       "            text-align:  left;\n",
       "            text-align:  left;\n",
       "            background-color:  yellow;\n",
       "            background-color:  lightgrey;\n",
       "        }</style><table id=\"T_4490e9be_3c83_11eb_8b27_a81e84a9863f\" ><thead>    <tr>        <th class=\"blank level0\" ></th>        <th class=\"col_heading level0 col0\" >Model</th>        <th class=\"col_heading level0 col1\" >Accuracy</th>        <th class=\"col_heading level0 col2\" >AUC</th>        <th class=\"col_heading level0 col3\" >Recall</th>        <th class=\"col_heading level0 col4\" >Prec.</th>        <th class=\"col_heading level0 col5\" >F1</th>        <th class=\"col_heading level0 col6\" >Kappa</th>        <th class=\"col_heading level0 col7\" >MCC</th>        <th class=\"col_heading level0 col8\" >TT (Sec)</th>    </tr></thead><tbody>\n",
       "                <tr>\n",
       "                        <th id=\"T_4490e9be_3c83_11eb_8b27_a81e84a9863flevel0_row0\" class=\"row_heading level0 row0\" >catboost</th>\n",
       "                        <td id=\"T_4490e9be_3c83_11eb_8b27_a81e84a9863frow0_col0\" class=\"data row0 col0\" >CatBoost Classifier</td>\n",
       "                        <td id=\"T_4490e9be_3c83_11eb_8b27_a81e84a9863frow0_col1\" class=\"data row0 col1\" >0.7636</td>\n",
       "                        <td id=\"T_4490e9be_3c83_11eb_8b27_a81e84a9863frow0_col2\" class=\"data row0 col2\" >0.7511</td>\n",
       "                        <td id=\"T_4490e9be_3c83_11eb_8b27_a81e84a9863frow0_col3\" class=\"data row0 col3\" >0.9587</td>\n",
       "                        <td id=\"T_4490e9be_3c83_11eb_8b27_a81e84a9863frow0_col4\" class=\"data row0 col4\" >0.7790</td>\n",
       "                        <td id=\"T_4490e9be_3c83_11eb_8b27_a81e84a9863frow0_col5\" class=\"data row0 col5\" >0.8595</td>\n",
       "                        <td id=\"T_4490e9be_3c83_11eb_8b27_a81e84a9863frow0_col6\" class=\"data row0 col6\" >0.1604</td>\n",
       "                        <td id=\"T_4490e9be_3c83_11eb_8b27_a81e84a9863frow0_col7\" class=\"data row0 col7\" >0.2067</td>\n",
       "                        <td id=\"T_4490e9be_3c83_11eb_8b27_a81e84a9863frow0_col8\" class=\"data row0 col8\" >3.5450</td>\n",
       "            </tr>\n",
       "            <tr>\n",
       "                        <th id=\"T_4490e9be_3c83_11eb_8b27_a81e84a9863flevel0_row1\" class=\"row_heading level0 row1\" >gbc</th>\n",
       "                        <td id=\"T_4490e9be_3c83_11eb_8b27_a81e84a9863frow1_col0\" class=\"data row1 col0\" >Gradient Boosting Classifier</td>\n",
       "                        <td id=\"T_4490e9be_3c83_11eb_8b27_a81e84a9863frow1_col1\" class=\"data row1 col1\" >0.7599</td>\n",
       "                        <td id=\"T_4490e9be_3c83_11eb_8b27_a81e84a9863frow1_col2\" class=\"data row1 col2\" >0.7428</td>\n",
       "                        <td id=\"T_4490e9be_3c83_11eb_8b27_a81e84a9863frow1_col3\" class=\"data row1 col3\" >0.9728</td>\n",
       "                        <td id=\"T_4490e9be_3c83_11eb_8b27_a81e84a9863frow1_col4\" class=\"data row1 col4\" >0.7698</td>\n",
       "                        <td id=\"T_4490e9be_3c83_11eb_8b27_a81e84a9863frow1_col5\" class=\"data row1 col5\" >0.8595</td>\n",
       "                        <td id=\"T_4490e9be_3c83_11eb_8b27_a81e84a9863frow1_col6\" class=\"data row1 col6\" >0.1068</td>\n",
       "                        <td id=\"T_4490e9be_3c83_11eb_8b27_a81e84a9863frow1_col7\" class=\"data row1 col7\" >0.1595</td>\n",
       "                        <td id=\"T_4490e9be_3c83_11eb_8b27_a81e84a9863frow1_col8\" class=\"data row1 col8\" >0.4550</td>\n",
       "            </tr>\n",
       "            <tr>\n",
       "                        <th id=\"T_4490e9be_3c83_11eb_8b27_a81e84a9863flevel0_row2\" class=\"row_heading level0 row2\" >rf</th>\n",
       "                        <td id=\"T_4490e9be_3c83_11eb_8b27_a81e84a9863frow2_col0\" class=\"data row2 col0\" >Random Forest Classifier</td>\n",
       "                        <td id=\"T_4490e9be_3c83_11eb_8b27_a81e84a9863frow2_col1\" class=\"data row2 col1\" >0.7586</td>\n",
       "                        <td id=\"T_4490e9be_3c83_11eb_8b27_a81e84a9863frow2_col2\" class=\"data row2 col2\" >0.7199</td>\n",
       "                        <td id=\"T_4490e9be_3c83_11eb_8b27_a81e84a9863frow2_col3\" class=\"data row2 col3\" >0.9649</td>\n",
       "                        <td id=\"T_4490e9be_3c83_11eb_8b27_a81e84a9863frow2_col4\" class=\"data row2 col4\" >0.7722</td>\n",
       "                        <td id=\"T_4490e9be_3c83_11eb_8b27_a81e84a9863frow2_col5\" class=\"data row2 col5\" >0.8578</td>\n",
       "                        <td id=\"T_4490e9be_3c83_11eb_8b27_a81e84a9863frow2_col6\" class=\"data row2 col6\" >0.1199</td>\n",
       "                        <td id=\"T_4490e9be_3c83_11eb_8b27_a81e84a9863frow2_col7\" class=\"data row2 col7\" >0.1664</td>\n",
       "                        <td id=\"T_4490e9be_3c83_11eb_8b27_a81e84a9863frow2_col8\" class=\"data row2 col8\" >0.4090</td>\n",
       "            </tr>\n",
       "            <tr>\n",
       "                        <th id=\"T_4490e9be_3c83_11eb_8b27_a81e84a9863flevel0_row3\" class=\"row_heading level0 row3\" >lightgbm</th>\n",
       "                        <td id=\"T_4490e9be_3c83_11eb_8b27_a81e84a9863frow3_col0\" class=\"data row3 col0\" >Light Gradient Boosting Machine</td>\n",
       "                        <td id=\"T_4490e9be_3c83_11eb_8b27_a81e84a9863frow3_col1\" class=\"data row3 col1\" >0.7576</td>\n",
       "                        <td id=\"T_4490e9be_3c83_11eb_8b27_a81e84a9863frow3_col2\" class=\"data row3 col2\" >0.7414</td>\n",
       "                        <td id=\"T_4490e9be_3c83_11eb_8b27_a81e84a9863frow3_col3\" class=\"data row3 col3\" >0.9157</td>\n",
       "                        <td id=\"T_4490e9be_3c83_11eb_8b27_a81e84a9863frow3_col4\" class=\"data row3 col4\" >0.7946</td>\n",
       "                        <td id=\"T_4490e9be_3c83_11eb_8b27_a81e84a9863frow3_col5\" class=\"data row3 col5\" >0.8507</td>\n",
       "                        <td id=\"T_4490e9be_3c83_11eb_8b27_a81e84a9863frow3_col6\" class=\"data row3 col6\" >0.2219</td>\n",
       "                        <td id=\"T_4490e9be_3c83_11eb_8b27_a81e84a9863frow3_col7\" class=\"data row3 col7\" >0.2398</td>\n",
       "                        <td id=\"T_4490e9be_3c83_11eb_8b27_a81e84a9863frow3_col8\" class=\"data row3 col8\" >0.2100</td>\n",
       "            </tr>\n",
       "            <tr>\n",
       "                        <th id=\"T_4490e9be_3c83_11eb_8b27_a81e84a9863flevel0_row4\" class=\"row_heading level0 row4\" >xgboost</th>\n",
       "                        <td id=\"T_4490e9be_3c83_11eb_8b27_a81e84a9863frow4_col0\" class=\"data row4 col0\" >Extreme Gradient Boosting</td>\n",
       "                        <td id=\"T_4490e9be_3c83_11eb_8b27_a81e84a9863frow4_col1\" class=\"data row4 col1\" >0.7566</td>\n",
       "                        <td id=\"T_4490e9be_3c83_11eb_8b27_a81e84a9863frow4_col2\" class=\"data row4 col2\" >0.7240</td>\n",
       "                        <td id=\"T_4490e9be_3c83_11eb_8b27_a81e84a9863frow4_col3\" class=\"data row4 col3\" >0.9016</td>\n",
       "                        <td id=\"T_4490e9be_3c83_11eb_8b27_a81e84a9863frow4_col4\" class=\"data row4 col4\" >0.8009</td>\n",
       "                        <td id=\"T_4490e9be_3c83_11eb_8b27_a81e84a9863frow4_col5\" class=\"data row4 col5\" >0.8482</td>\n",
       "                        <td id=\"T_4490e9be_3c83_11eb_8b27_a81e84a9863frow4_col6\" class=\"data row4 col6\" >0.2439</td>\n",
       "                        <td id=\"T_4490e9be_3c83_11eb_8b27_a81e84a9863frow4_col7\" class=\"data row4 col7\" >0.2557</td>\n",
       "                        <td id=\"T_4490e9be_3c83_11eb_8b27_a81e84a9863frow4_col8\" class=\"data row4 col8\" >0.9860</td>\n",
       "            </tr>\n",
       "            <tr>\n",
       "                        <th id=\"T_4490e9be_3c83_11eb_8b27_a81e84a9863flevel0_row5\" class=\"row_heading level0 row5\" >ada</th>\n",
       "                        <td id=\"T_4490e9be_3c83_11eb_8b27_a81e84a9863frow5_col0\" class=\"data row5 col0\" >Ada Boost Classifier</td>\n",
       "                        <td id=\"T_4490e9be_3c83_11eb_8b27_a81e84a9863frow5_col1\" class=\"data row5 col1\" >0.7563</td>\n",
       "                        <td id=\"T_4490e9be_3c83_11eb_8b27_a81e84a9863frow5_col2\" class=\"data row5 col2\" >0.7182</td>\n",
       "                        <td id=\"T_4490e9be_3c83_11eb_8b27_a81e84a9863frow5_col3\" class=\"data row5 col3\" >0.9528</td>\n",
       "                        <td id=\"T_4490e9be_3c83_11eb_8b27_a81e84a9863frow5_col4\" class=\"data row5 col4\" >0.7756</td>\n",
       "                        <td id=\"T_4490e9be_3c83_11eb_8b27_a81e84a9863frow5_col5\" class=\"data row5 col5\" >0.8551</td>\n",
       "                        <td id=\"T_4490e9be_3c83_11eb_8b27_a81e84a9863frow5_col6\" class=\"data row5 col6\" >0.1371</td>\n",
       "                        <td id=\"T_4490e9be_3c83_11eb_8b27_a81e84a9863frow5_col7\" class=\"data row5 col7\" >0.1747</td>\n",
       "                        <td id=\"T_4490e9be_3c83_11eb_8b27_a81e84a9863frow5_col8\" class=\"data row5 col8\" >0.1920</td>\n",
       "            </tr>\n",
       "            <tr>\n",
       "                        <th id=\"T_4490e9be_3c83_11eb_8b27_a81e84a9863flevel0_row6\" class=\"row_heading level0 row6\" >lr</th>\n",
       "                        <td id=\"T_4490e9be_3c83_11eb_8b27_a81e84a9863frow6_col0\" class=\"data row6 col0\" >Logistic Regression</td>\n",
       "                        <td id=\"T_4490e9be_3c83_11eb_8b27_a81e84a9863frow6_col1\" class=\"data row6 col1\" >0.7545</td>\n",
       "                        <td id=\"T_4490e9be_3c83_11eb_8b27_a81e84a9863frow6_col2\" class=\"data row6 col2\" >0.5369</td>\n",
       "                        <td id=\"T_4490e9be_3c83_11eb_8b27_a81e84a9863frow6_col3\" class=\"data row6 col3\" >0.9997</td>\n",
       "                        <td id=\"T_4490e9be_3c83_11eb_8b27_a81e84a9863frow6_col4\" class=\"data row6 col4\" >0.7547</td>\n",
       "                        <td id=\"T_4490e9be_3c83_11eb_8b27_a81e84a9863frow6_col5\" class=\"data row6 col5\" >0.8601</td>\n",
       "                        <td id=\"T_4490e9be_3c83_11eb_8b27_a81e84a9863frow6_col6\" class=\"data row6 col6\" >-0.0005</td>\n",
       "                        <td id=\"T_4490e9be_3c83_11eb_8b27_a81e84a9863frow6_col7\" class=\"data row6 col7\" >-0.0029</td>\n",
       "                        <td id=\"T_4490e9be_3c83_11eb_8b27_a81e84a9863frow6_col8\" class=\"data row6 col8\" >0.6860</td>\n",
       "            </tr>\n",
       "            <tr>\n",
       "                        <th id=\"T_4490e9be_3c83_11eb_8b27_a81e84a9863flevel0_row7\" class=\"row_heading level0 row7\" >lda</th>\n",
       "                        <td id=\"T_4490e9be_3c83_11eb_8b27_a81e84a9863frow7_col0\" class=\"data row7 col0\" >Linear Discriminant Analysis</td>\n",
       "                        <td id=\"T_4490e9be_3c83_11eb_8b27_a81e84a9863frow7_col1\" class=\"data row7 col1\" >0.7519</td>\n",
       "                        <td id=\"T_4490e9be_3c83_11eb_8b27_a81e84a9863frow7_col2\" class=\"data row7 col2\" >0.6185</td>\n",
       "                        <td id=\"T_4490e9be_3c83_11eb_8b27_a81e84a9863frow7_col3\" class=\"data row7 col3\" >0.9769</td>\n",
       "                        <td id=\"T_4490e9be_3c83_11eb_8b27_a81e84a9863frow7_col4\" class=\"data row7 col4\" >0.7617</td>\n",
       "                        <td id=\"T_4490e9be_3c83_11eb_8b27_a81e84a9863frow7_col5\" class=\"data row7 col5\" >0.8560</td>\n",
       "                        <td id=\"T_4490e9be_3c83_11eb_8b27_a81e84a9863frow7_col6\" class=\"data row7 col6\" >0.0514</td>\n",
       "                        <td id=\"T_4490e9be_3c83_11eb_8b27_a81e84a9863frow7_col7\" class=\"data row7 col7\" >0.0918</td>\n",
       "                        <td id=\"T_4490e9be_3c83_11eb_8b27_a81e84a9863frow7_col8\" class=\"data row7 col8\" >0.0640</td>\n",
       "            </tr>\n",
       "            <tr>\n",
       "                        <th id=\"T_4490e9be_3c83_11eb_8b27_a81e84a9863flevel0_row8\" class=\"row_heading level0 row8\" >ridge</th>\n",
       "                        <td id=\"T_4490e9be_3c83_11eb_8b27_a81e84a9863frow8_col0\" class=\"data row8 col0\" >Ridge Classifier</td>\n",
       "                        <td id=\"T_4490e9be_3c83_11eb_8b27_a81e84a9863frow8_col1\" class=\"data row8 col1\" >0.7514</td>\n",
       "                        <td id=\"T_4490e9be_3c83_11eb_8b27_a81e84a9863frow8_col2\" class=\"data row8 col2\" >0.0000</td>\n",
       "                        <td id=\"T_4490e9be_3c83_11eb_8b27_a81e84a9863frow8_col3\" class=\"data row8 col3\" >0.9911</td>\n",
       "                        <td id=\"T_4490e9be_3c83_11eb_8b27_a81e84a9863frow8_col4\" class=\"data row8 col4\" >0.7556</td>\n",
       "                        <td id=\"T_4490e9be_3c83_11eb_8b27_a81e84a9863frow8_col5\" class=\"data row8 col5\" >0.8575</td>\n",
       "                        <td id=\"T_4490e9be_3c83_11eb_8b27_a81e84a9863frow8_col6\" class=\"data row8 col6\" >0.0071</td>\n",
       "                        <td id=\"T_4490e9be_3c83_11eb_8b27_a81e84a9863frow8_col7\" class=\"data row8 col7\" >0.0225</td>\n",
       "                        <td id=\"T_4490e9be_3c83_11eb_8b27_a81e84a9863frow8_col8\" class=\"data row8 col8\" >0.0280</td>\n",
       "            </tr>\n",
       "            <tr>\n",
       "                        <th id=\"T_4490e9be_3c83_11eb_8b27_a81e84a9863flevel0_row9\" class=\"row_heading level0 row9\" >et</th>\n",
       "                        <td id=\"T_4490e9be_3c83_11eb_8b27_a81e84a9863frow9_col0\" class=\"data row9 col0\" >Extra Trees Classifier</td>\n",
       "                        <td id=\"T_4490e9be_3c83_11eb_8b27_a81e84a9863frow9_col1\" class=\"data row9 col1\" >0.7282</td>\n",
       "                        <td id=\"T_4490e9be_3c83_11eb_8b27_a81e84a9863frow9_col2\" class=\"data row9 col2\" >0.6310</td>\n",
       "                        <td id=\"T_4490e9be_3c83_11eb_8b27_a81e84a9863frow9_col3\" class=\"data row9 col3\" >0.9119</td>\n",
       "                        <td id=\"T_4490e9be_3c83_11eb_8b27_a81e84a9863frow9_col4\" class=\"data row9 col4\" >0.7703</td>\n",
       "                        <td id=\"T_4490e9be_3c83_11eb_8b27_a81e84a9863frow9_col5\" class=\"data row9 col5\" >0.8351</td>\n",
       "                        <td id=\"T_4490e9be_3c83_11eb_8b27_a81e84a9863frow9_col6\" class=\"data row9 col6\" >0.0926</td>\n",
       "                        <td id=\"T_4490e9be_3c83_11eb_8b27_a81e84a9863frow9_col7\" class=\"data row9 col7\" >0.1049</td>\n",
       "                        <td id=\"T_4490e9be_3c83_11eb_8b27_a81e84a9863frow9_col8\" class=\"data row9 col8\" >0.4350</td>\n",
       "            </tr>\n",
       "            <tr>\n",
       "                        <th id=\"T_4490e9be_3c83_11eb_8b27_a81e84a9863flevel0_row10\" class=\"row_heading level0 row10\" >knn</th>\n",
       "                        <td id=\"T_4490e9be_3c83_11eb_8b27_a81e84a9863frow10_col0\" class=\"data row10 col0\" >K Neighbors Classifier</td>\n",
       "                        <td id=\"T_4490e9be_3c83_11eb_8b27_a81e84a9863frow10_col1\" class=\"data row10 col1\" >0.7228</td>\n",
       "                        <td id=\"T_4490e9be_3c83_11eb_8b27_a81e84a9863frow10_col2\" class=\"data row10 col2\" >0.6426</td>\n",
       "                        <td id=\"T_4490e9be_3c83_11eb_8b27_a81e84a9863frow10_col3\" class=\"data row10 col3\" >0.8671</td>\n",
       "                        <td id=\"T_4490e9be_3c83_11eb_8b27_a81e84a9863frow10_col4\" class=\"data row10 col4\" >0.7873</td>\n",
       "                        <td id=\"T_4490e9be_3c83_11eb_8b27_a81e84a9863frow10_col5\" class=\"data row10 col5\" >0.8252</td>\n",
       "                        <td id=\"T_4490e9be_3c83_11eb_8b27_a81e84a9863frow10_col6\" class=\"data row10 col6\" >0.1625</td>\n",
       "                        <td id=\"T_4490e9be_3c83_11eb_8b27_a81e84a9863frow10_col7\" class=\"data row10 col7\" >0.1671</td>\n",
       "                        <td id=\"T_4490e9be_3c83_11eb_8b27_a81e84a9863frow10_col8\" class=\"data row10 col8\" >0.0970</td>\n",
       "            </tr>\n",
       "            <tr>\n",
       "                        <th id=\"T_4490e9be_3c83_11eb_8b27_a81e84a9863flevel0_row11\" class=\"row_heading level0 row11\" >nb</th>\n",
       "                        <td id=\"T_4490e9be_3c83_11eb_8b27_a81e84a9863frow11_col0\" class=\"data row11 col0\" >Naive Bayes</td>\n",
       "                        <td id=\"T_4490e9be_3c83_11eb_8b27_a81e84a9863frow11_col1\" class=\"data row11 col1\" >0.7090</td>\n",
       "                        <td id=\"T_4490e9be_3c83_11eb_8b27_a81e84a9863frow11_col2\" class=\"data row11 col2\" >0.5283</td>\n",
       "                        <td id=\"T_4490e9be_3c83_11eb_8b27_a81e84a9863frow11_col3\" class=\"data row11 col3\" >0.9079</td>\n",
       "                        <td id=\"T_4490e9be_3c83_11eb_8b27_a81e84a9863frow11_col4\" class=\"data row11 col4\" >0.7716</td>\n",
       "                        <td id=\"T_4490e9be_3c83_11eb_8b27_a81e84a9863frow11_col5\" class=\"data row11 col5\" >0.7895</td>\n",
       "                        <td id=\"T_4490e9be_3c83_11eb_8b27_a81e84a9863frow11_col6\" class=\"data row11 col6\" >0.0023</td>\n",
       "                        <td id=\"T_4490e9be_3c83_11eb_8b27_a81e84a9863frow11_col7\" class=\"data row11 col7\" >0.0068</td>\n",
       "                        <td id=\"T_4490e9be_3c83_11eb_8b27_a81e84a9863frow11_col8\" class=\"data row11 col8\" >0.0280</td>\n",
       "            </tr>\n",
       "            <tr>\n",
       "                        <th id=\"T_4490e9be_3c83_11eb_8b27_a81e84a9863flevel0_row12\" class=\"row_heading level0 row12\" >dt</th>\n",
       "                        <td id=\"T_4490e9be_3c83_11eb_8b27_a81e84a9863frow12_col0\" class=\"data row12 col0\" >Decision Tree Classifier</td>\n",
       "                        <td id=\"T_4490e9be_3c83_11eb_8b27_a81e84a9863frow12_col1\" class=\"data row12 col1\" >0.6864</td>\n",
       "                        <td id=\"T_4490e9be_3c83_11eb_8b27_a81e84a9863frow12_col2\" class=\"data row12 col2\" >0.5845</td>\n",
       "                        <td id=\"T_4490e9be_3c83_11eb_8b27_a81e84a9863frow12_col3\" class=\"data row12 col3\" >0.7845</td>\n",
       "                        <td id=\"T_4490e9be_3c83_11eb_8b27_a81e84a9863frow12_col4\" class=\"data row12 col4\" >0.7969</td>\n",
       "                        <td id=\"T_4490e9be_3c83_11eb_8b27_a81e84a9863frow12_col5\" class=\"data row12 col5\" >0.7906</td>\n",
       "                        <td id=\"T_4490e9be_3c83_11eb_8b27_a81e84a9863frow12_col6\" class=\"data row12 col6\" >0.1662</td>\n",
       "                        <td id=\"T_4490e9be_3c83_11eb_8b27_a81e84a9863frow12_col7\" class=\"data row12 col7\" >0.1664</td>\n",
       "                        <td id=\"T_4490e9be_3c83_11eb_8b27_a81e84a9863frow12_col8\" class=\"data row12 col8\" >0.0460</td>\n",
       "            </tr>\n",
       "            <tr>\n",
       "                        <th id=\"T_4490e9be_3c83_11eb_8b27_a81e84a9863flevel0_row13\" class=\"row_heading level0 row13\" >svm</th>\n",
       "                        <td id=\"T_4490e9be_3c83_11eb_8b27_a81e84a9863frow13_col0\" class=\"data row13 col0\" >SVM - Linear Kernel</td>\n",
       "                        <td id=\"T_4490e9be_3c83_11eb_8b27_a81e84a9863frow13_col1\" class=\"data row13 col1\" >0.6193</td>\n",
       "                        <td id=\"T_4490e9be_3c83_11eb_8b27_a81e84a9863frow13_col2\" class=\"data row13 col2\" >0.0000</td>\n",
       "                        <td id=\"T_4490e9be_3c83_11eb_8b27_a81e84a9863frow13_col3\" class=\"data row13 col3\" >0.7490</td>\n",
       "                        <td id=\"T_4490e9be_3c83_11eb_8b27_a81e84a9863frow13_col4\" class=\"data row13 col4\" >0.6836</td>\n",
       "                        <td id=\"T_4490e9be_3c83_11eb_8b27_a81e84a9863frow13_col5\" class=\"data row13 col5\" >0.6933</td>\n",
       "                        <td id=\"T_4490e9be_3c83_11eb_8b27_a81e84a9863frow13_col6\" class=\"data row13 col6\" >-0.0489</td>\n",
       "                        <td id=\"T_4490e9be_3c83_11eb_8b27_a81e84a9863frow13_col7\" class=\"data row13 col7\" >-0.0537</td>\n",
       "                        <td id=\"T_4490e9be_3c83_11eb_8b27_a81e84a9863frow13_col8\" class=\"data row13 col8\" >0.0360</td>\n",
       "            </tr>\n",
       "            <tr>\n",
       "                        <th id=\"T_4490e9be_3c83_11eb_8b27_a81e84a9863flevel0_row14\" class=\"row_heading level0 row14\" >qda</th>\n",
       "                        <td id=\"T_4490e9be_3c83_11eb_8b27_a81e84a9863frow14_col0\" class=\"data row14 col0\" >Quadratic Discriminant Analysis</td>\n",
       "                        <td id=\"T_4490e9be_3c83_11eb_8b27_a81e84a9863frow14_col1\" class=\"data row14 col1\" >0.4783</td>\n",
       "                        <td id=\"T_4490e9be_3c83_11eb_8b27_a81e84a9863frow14_col2\" class=\"data row14 col2\" >0.5587</td>\n",
       "                        <td id=\"T_4490e9be_3c83_11eb_8b27_a81e84a9863frow14_col3\" class=\"data row14 col3\" >0.4216</td>\n",
       "                        <td id=\"T_4490e9be_3c83_11eb_8b27_a81e84a9863frow14_col4\" class=\"data row14 col4\" >0.7929</td>\n",
       "                        <td id=\"T_4490e9be_3c83_11eb_8b27_a81e84a9863frow14_col5\" class=\"data row14 col5\" >0.5207</td>\n",
       "                        <td id=\"T_4490e9be_3c83_11eb_8b27_a81e84a9863frow14_col6\" class=\"data row14 col6\" >0.0545</td>\n",
       "                        <td id=\"T_4490e9be_3c83_11eb_8b27_a81e84a9863frow14_col7\" class=\"data row14 col7\" >0.0710</td>\n",
       "                        <td id=\"T_4490e9be_3c83_11eb_8b27_a81e84a9863frow14_col8\" class=\"data row14 col8\" >0.0460</td>\n",
       "            </tr>\n",
       "    </tbody></table>"
      ],
      "text/plain": [
       "<pandas.io.formats.style.Styler at 0x24f32c17670>"
      ]
     },
     "metadata": {},
     "output_type": "display_data"
    }
   ],
   "source": [
    "modelos = compare_models()"
   ]
  },
  {
   "cell_type": "code",
   "execution_count": 57,
   "metadata": {},
   "outputs": [
    {
     "data": {
      "text/plain": [
       "<catboost.core.CatBoostClassifier at 0x24f32cc7550>"
      ]
     },
     "execution_count": 57,
     "metadata": {},
     "output_type": "execute_result"
    }
   ],
   "source": [
    "# Mejor modelo basado en Accuracy\n",
    "modelos"
   ]
  },
  {
   "cell_type": "markdown",
   "metadata": {},
   "source": [
    "# Modelo *Catboost*"
   ]
  },
  {
   "cell_type": "code",
   "execution_count": 58,
   "metadata": {},
   "outputs": [
    {
     "data": {
      "text/html": [
       "<style  type=\"text/css\" >\n",
       "#T_25a7eb32_3c84_11eb_bf19_a81e84a9863frow10_col0,#T_25a7eb32_3c84_11eb_bf19_a81e84a9863frow10_col1,#T_25a7eb32_3c84_11eb_bf19_a81e84a9863frow10_col2,#T_25a7eb32_3c84_11eb_bf19_a81e84a9863frow10_col3,#T_25a7eb32_3c84_11eb_bf19_a81e84a9863frow10_col4,#T_25a7eb32_3c84_11eb_bf19_a81e84a9863frow10_col5,#T_25a7eb32_3c84_11eb_bf19_a81e84a9863frow10_col6{\n",
       "            background:  yellow;\n",
       "        }</style><table id=\"T_25a7eb32_3c84_11eb_bf19_a81e84a9863f\" ><thead>    <tr>        <th class=\"blank level0\" ></th>        <th class=\"col_heading level0 col0\" >Accuracy</th>        <th class=\"col_heading level0 col1\" >AUC</th>        <th class=\"col_heading level0 col2\" >Recall</th>        <th class=\"col_heading level0 col3\" >Prec.</th>        <th class=\"col_heading level0 col4\" >F1</th>        <th class=\"col_heading level0 col5\" >Kappa</th>        <th class=\"col_heading level0 col6\" >MCC</th>    </tr></thead><tbody>\n",
       "                <tr>\n",
       "                        <th id=\"T_25a7eb32_3c84_11eb_bf19_a81e84a9863flevel0_row0\" class=\"row_heading level0 row0\" >0</th>\n",
       "                        <td id=\"T_25a7eb32_3c84_11eb_bf19_a81e84a9863frow0_col0\" class=\"data row0 col0\" >0.7662</td>\n",
       "                        <td id=\"T_25a7eb32_3c84_11eb_bf19_a81e84a9863frow0_col1\" class=\"data row0 col1\" >0.7670</td>\n",
       "                        <td id=\"T_25a7eb32_3c84_11eb_bf19_a81e84a9863frow0_col2\" class=\"data row0 col2\" >0.9519</td>\n",
       "                        <td id=\"T_25a7eb32_3c84_11eb_bf19_a81e84a9863frow0_col3\" class=\"data row0 col3\" >0.7847</td>\n",
       "                        <td id=\"T_25a7eb32_3c84_11eb_bf19_a81e84a9863frow0_col4\" class=\"data row0 col4\" >0.8602</td>\n",
       "                        <td id=\"T_25a7eb32_3c84_11eb_bf19_a81e84a9863frow0_col5\" class=\"data row0 col5\" >0.1846</td>\n",
       "                        <td id=\"T_25a7eb32_3c84_11eb_bf19_a81e84a9863frow0_col6\" class=\"data row0 col6\" >0.2231</td>\n",
       "            </tr>\n",
       "            <tr>\n",
       "                        <th id=\"T_25a7eb32_3c84_11eb_bf19_a81e84a9863flevel0_row1\" class=\"row_heading level0 row1\" >1</th>\n",
       "                        <td id=\"T_25a7eb32_3c84_11eb_bf19_a81e84a9863frow1_col0\" class=\"data row1 col0\" >0.7662</td>\n",
       "                        <td id=\"T_25a7eb32_3c84_11eb_bf19_a81e84a9863frow1_col1\" class=\"data row1 col1\" >0.7660</td>\n",
       "                        <td id=\"T_25a7eb32_3c84_11eb_bf19_a81e84a9863frow1_col2\" class=\"data row1 col2\" >0.9519</td>\n",
       "                        <td id=\"T_25a7eb32_3c84_11eb_bf19_a81e84a9863frow1_col3\" class=\"data row1 col3\" >0.7847</td>\n",
       "                        <td id=\"T_25a7eb32_3c84_11eb_bf19_a81e84a9863frow1_col4\" class=\"data row1 col4\" >0.8602</td>\n",
       "                        <td id=\"T_25a7eb32_3c84_11eb_bf19_a81e84a9863frow1_col5\" class=\"data row1 col5\" >0.1846</td>\n",
       "                        <td id=\"T_25a7eb32_3c84_11eb_bf19_a81e84a9863frow1_col6\" class=\"data row1 col6\" >0.2231</td>\n",
       "            </tr>\n",
       "            <tr>\n",
       "                        <th id=\"T_25a7eb32_3c84_11eb_bf19_a81e84a9863flevel0_row2\" class=\"row_heading level0 row2\" >2</th>\n",
       "                        <td id=\"T_25a7eb32_3c84_11eb_bf19_a81e84a9863frow2_col0\" class=\"data row2 col0\" >0.7273</td>\n",
       "                        <td id=\"T_25a7eb32_3c84_11eb_bf19_a81e84a9863frow2_col1\" class=\"data row2 col1\" >0.7023</td>\n",
       "                        <td id=\"T_25a7eb32_3c84_11eb_bf19_a81e84a9863frow2_col2\" class=\"data row2 col2\" >0.9210</td>\n",
       "                        <td id=\"T_25a7eb32_3c84_11eb_bf19_a81e84a9863frow2_col3\" class=\"data row2 col3\" >0.7657</td>\n",
       "                        <td id=\"T_25a7eb32_3c84_11eb_bf19_a81e84a9863frow2_col4\" class=\"data row2 col4\" >0.8362</td>\n",
       "                        <td id=\"T_25a7eb32_3c84_11eb_bf19_a81e84a9863frow2_col5\" class=\"data row2 col5\" >0.0617</td>\n",
       "                        <td id=\"T_25a7eb32_3c84_11eb_bf19_a81e84a9863frow2_col6\" class=\"data row2 col6\" >0.0727</td>\n",
       "            </tr>\n",
       "            <tr>\n",
       "                        <th id=\"T_25a7eb32_3c84_11eb_bf19_a81e84a9863flevel0_row3\" class=\"row_heading level0 row3\" >3</th>\n",
       "                        <td id=\"T_25a7eb32_3c84_11eb_bf19_a81e84a9863frow3_col0\" class=\"data row3 col0\" >0.7610</td>\n",
       "                        <td id=\"T_25a7eb32_3c84_11eb_bf19_a81e84a9863frow3_col1\" class=\"data row3 col1\" >0.8024</td>\n",
       "                        <td id=\"T_25a7eb32_3c84_11eb_bf19_a81e84a9863frow3_col2\" class=\"data row3 col2\" >0.9553</td>\n",
       "                        <td id=\"T_25a7eb32_3c84_11eb_bf19_a81e84a9863frow3_col3\" class=\"data row3 col3\" >0.7787</td>\n",
       "                        <td id=\"T_25a7eb32_3c84_11eb_bf19_a81e84a9863frow3_col4\" class=\"data row3 col4\" >0.8580</td>\n",
       "                        <td id=\"T_25a7eb32_3c84_11eb_bf19_a81e84a9863frow3_col5\" class=\"data row3 col5\" >0.1507</td>\n",
       "                        <td id=\"T_25a7eb32_3c84_11eb_bf19_a81e84a9863frow3_col6\" class=\"data row3 col6\" >0.1901</td>\n",
       "            </tr>\n",
       "            <tr>\n",
       "                        <th id=\"T_25a7eb32_3c84_11eb_bf19_a81e84a9863flevel0_row4\" class=\"row_heading level0 row4\" >4</th>\n",
       "                        <td id=\"T_25a7eb32_3c84_11eb_bf19_a81e84a9863frow4_col0\" class=\"data row4 col0\" >0.7766</td>\n",
       "                        <td id=\"T_25a7eb32_3c84_11eb_bf19_a81e84a9863frow4_col1\" class=\"data row4 col1\" >0.7333</td>\n",
       "                        <td id=\"T_25a7eb32_3c84_11eb_bf19_a81e84a9863frow4_col2\" class=\"data row4 col2\" >0.9794</td>\n",
       "                        <td id=\"T_25a7eb32_3c84_11eb_bf19_a81e84a9863frow4_col3\" class=\"data row4 col3\" >0.7808</td>\n",
       "                        <td id=\"T_25a7eb32_3c84_11eb_bf19_a81e84a9863frow4_col4\" class=\"data row4 col4\" >0.8689</td>\n",
       "                        <td id=\"T_25a7eb32_3c84_11eb_bf19_a81e84a9863frow4_col5\" class=\"data row4 col5\" >0.1749</td>\n",
       "                        <td id=\"T_25a7eb32_3c84_11eb_bf19_a81e84a9863frow4_col6\" class=\"data row4 col6\" >0.2484</td>\n",
       "            </tr>\n",
       "            <tr>\n",
       "                        <th id=\"T_25a7eb32_3c84_11eb_bf19_a81e84a9863flevel0_row5\" class=\"row_heading level0 row5\" >5</th>\n",
       "                        <td id=\"T_25a7eb32_3c84_11eb_bf19_a81e84a9863frow5_col0\" class=\"data row5 col0\" >0.7610</td>\n",
       "                        <td id=\"T_25a7eb32_3c84_11eb_bf19_a81e84a9863frow5_col1\" class=\"data row5 col1\" >0.7207</td>\n",
       "                        <td id=\"T_25a7eb32_3c84_11eb_bf19_a81e84a9863frow5_col2\" class=\"data row5 col2\" >0.9552</td>\n",
       "                        <td id=\"T_25a7eb32_3c84_11eb_bf19_a81e84a9863frow5_col3\" class=\"data row5 col3\" >0.7781</td>\n",
       "                        <td id=\"T_25a7eb32_3c84_11eb_bf19_a81e84a9863frow5_col4\" class=\"data row5 col4\" >0.8576</td>\n",
       "                        <td id=\"T_25a7eb32_3c84_11eb_bf19_a81e84a9863frow5_col5\" class=\"data row5 col5\" >0.1613</td>\n",
       "                        <td id=\"T_25a7eb32_3c84_11eb_bf19_a81e84a9863frow5_col6\" class=\"data row5 col6\" >0.2019</td>\n",
       "            </tr>\n",
       "            <tr>\n",
       "                        <th id=\"T_25a7eb32_3c84_11eb_bf19_a81e84a9863flevel0_row6\" class=\"row_heading level0 row6\" >6</th>\n",
       "                        <td id=\"T_25a7eb32_3c84_11eb_bf19_a81e84a9863frow6_col0\" class=\"data row6 col0\" >0.7714</td>\n",
       "                        <td id=\"T_25a7eb32_3c84_11eb_bf19_a81e84a9863frow6_col1\" class=\"data row6 col1\" >0.7358</td>\n",
       "                        <td id=\"T_25a7eb32_3c84_11eb_bf19_a81e84a9863frow6_col2\" class=\"data row6 col2\" >0.9690</td>\n",
       "                        <td id=\"T_25a7eb32_3c84_11eb_bf19_a81e84a9863frow6_col3\" class=\"data row6 col3\" >0.7806</td>\n",
       "                        <td id=\"T_25a7eb32_3c84_11eb_bf19_a81e84a9863frow6_col4\" class=\"data row6 col4\" >0.8646</td>\n",
       "                        <td id=\"T_25a7eb32_3c84_11eb_bf19_a81e84a9863frow6_col5\" class=\"data row6 col5\" >0.1826</td>\n",
       "                        <td id=\"T_25a7eb32_3c84_11eb_bf19_a81e84a9863frow6_col6\" class=\"data row6 col6\" >0.2404</td>\n",
       "            </tr>\n",
       "            <tr>\n",
       "                        <th id=\"T_25a7eb32_3c84_11eb_bf19_a81e84a9863flevel0_row7\" class=\"row_heading level0 row7\" >7</th>\n",
       "                        <td id=\"T_25a7eb32_3c84_11eb_bf19_a81e84a9863frow7_col0\" class=\"data row7 col0\" >0.7844</td>\n",
       "                        <td id=\"T_25a7eb32_3c84_11eb_bf19_a81e84a9863frow7_col1\" class=\"data row7 col1\" >0.7500</td>\n",
       "                        <td id=\"T_25a7eb32_3c84_11eb_bf19_a81e84a9863frow7_col2\" class=\"data row7 col2\" >0.9759</td>\n",
       "                        <td id=\"T_25a7eb32_3c84_11eb_bf19_a81e84a9863frow7_col3\" class=\"data row7 col3\" >0.7883</td>\n",
       "                        <td id=\"T_25a7eb32_3c84_11eb_bf19_a81e84a9863frow7_col4\" class=\"data row7 col4\" >0.8721</td>\n",
       "                        <td id=\"T_25a7eb32_3c84_11eb_bf19_a81e84a9863frow7_col5\" class=\"data row7 col5\" >0.2327</td>\n",
       "                        <td id=\"T_25a7eb32_3c84_11eb_bf19_a81e84a9863frow7_col6\" class=\"data row7 col6\" >0.3021</td>\n",
       "            </tr>\n",
       "            <tr>\n",
       "                        <th id=\"T_25a7eb32_3c84_11eb_bf19_a81e84a9863flevel0_row8\" class=\"row_heading level0 row8\" >8</th>\n",
       "                        <td id=\"T_25a7eb32_3c84_11eb_bf19_a81e84a9863frow8_col0\" class=\"data row8 col0\" >0.7610</td>\n",
       "                        <td id=\"T_25a7eb32_3c84_11eb_bf19_a81e84a9863frow8_col1\" class=\"data row8 col1\" >0.7886</td>\n",
       "                        <td id=\"T_25a7eb32_3c84_11eb_bf19_a81e84a9863frow8_col2\" class=\"data row8 col2\" >0.9759</td>\n",
       "                        <td id=\"T_25a7eb32_3c84_11eb_bf19_a81e84a9863frow8_col3\" class=\"data row8 col3\" >0.7690</td>\n",
       "                        <td id=\"T_25a7eb32_3c84_11eb_bf19_a81e84a9863frow8_col4\" class=\"data row8 col4\" >0.8602</td>\n",
       "                        <td id=\"T_25a7eb32_3c84_11eb_bf19_a81e84a9863frow8_col5\" class=\"data row8 col5\" >0.1121</td>\n",
       "                        <td id=\"T_25a7eb32_3c84_11eb_bf19_a81e84a9863frow8_col6\" class=\"data row8 col6\" >0.1702</td>\n",
       "            </tr>\n",
       "            <tr>\n",
       "                        <th id=\"T_25a7eb32_3c84_11eb_bf19_a81e84a9863flevel0_row9\" class=\"row_heading level0 row9\" >9</th>\n",
       "                        <td id=\"T_25a7eb32_3c84_11eb_bf19_a81e84a9863frow9_col0\" class=\"data row9 col0\" >0.7604</td>\n",
       "                        <td id=\"T_25a7eb32_3c84_11eb_bf19_a81e84a9863frow9_col1\" class=\"data row9 col1\" >0.7449</td>\n",
       "                        <td id=\"T_25a7eb32_3c84_11eb_bf19_a81e84a9863frow9_col2\" class=\"data row9 col2\" >0.9517</td>\n",
       "                        <td id=\"T_25a7eb32_3c84_11eb_bf19_a81e84a9863frow9_col3\" class=\"data row9 col3\" >0.7797</td>\n",
       "                        <td id=\"T_25a7eb32_3c84_11eb_bf19_a81e84a9863frow9_col4\" class=\"data row9 col4\" >0.8571</td>\n",
       "                        <td id=\"T_25a7eb32_3c84_11eb_bf19_a81e84a9863frow9_col5\" class=\"data row9 col5\" >0.1584</td>\n",
       "                        <td id=\"T_25a7eb32_3c84_11eb_bf19_a81e84a9863frow9_col6\" class=\"data row9 col6\" >0.1954</td>\n",
       "            </tr>\n",
       "            <tr>\n",
       "                        <th id=\"T_25a7eb32_3c84_11eb_bf19_a81e84a9863flevel0_row10\" class=\"row_heading level0 row10\" >Mean</th>\n",
       "                        <td id=\"T_25a7eb32_3c84_11eb_bf19_a81e84a9863frow10_col0\" class=\"data row10 col0\" >0.7636</td>\n",
       "                        <td id=\"T_25a7eb32_3c84_11eb_bf19_a81e84a9863frow10_col1\" class=\"data row10 col1\" >0.7511</td>\n",
       "                        <td id=\"T_25a7eb32_3c84_11eb_bf19_a81e84a9863frow10_col2\" class=\"data row10 col2\" >0.9587</td>\n",
       "                        <td id=\"T_25a7eb32_3c84_11eb_bf19_a81e84a9863frow10_col3\" class=\"data row10 col3\" >0.7790</td>\n",
       "                        <td id=\"T_25a7eb32_3c84_11eb_bf19_a81e84a9863frow10_col4\" class=\"data row10 col4\" >0.8595</td>\n",
       "                        <td id=\"T_25a7eb32_3c84_11eb_bf19_a81e84a9863frow10_col5\" class=\"data row10 col5\" >0.1604</td>\n",
       "                        <td id=\"T_25a7eb32_3c84_11eb_bf19_a81e84a9863frow10_col6\" class=\"data row10 col6\" >0.2067</td>\n",
       "            </tr>\n",
       "            <tr>\n",
       "                        <th id=\"T_25a7eb32_3c84_11eb_bf19_a81e84a9863flevel0_row11\" class=\"row_heading level0 row11\" >SD</th>\n",
       "                        <td id=\"T_25a7eb32_3c84_11eb_bf19_a81e84a9863frow11_col0\" class=\"data row11 col0\" >0.0142</td>\n",
       "                        <td id=\"T_25a7eb32_3c84_11eb_bf19_a81e84a9863frow11_col1\" class=\"data row11 col1\" >0.0290</td>\n",
       "                        <td id=\"T_25a7eb32_3c84_11eb_bf19_a81e84a9863frow11_col2\" class=\"data row11 col2\" >0.0165</td>\n",
       "                        <td id=\"T_25a7eb32_3c84_11eb_bf19_a81e84a9863frow11_col3\" class=\"data row11 col3\" >0.0066</td>\n",
       "                        <td id=\"T_25a7eb32_3c84_11eb_bf19_a81e84a9863frow11_col4\" class=\"data row11 col4\" >0.0091</td>\n",
       "                        <td id=\"T_25a7eb32_3c84_11eb_bf19_a81e84a9863frow11_col5\" class=\"data row11 col5\" >0.0439</td>\n",
       "                        <td id=\"T_25a7eb32_3c84_11eb_bf19_a81e84a9863frow11_col6\" class=\"data row11 col6\" >0.0568</td>\n",
       "            </tr>\n",
       "    </tbody></table>"
      ],
      "text/plain": [
       "<pandas.io.formats.style.Styler at 0x24f34fa3ac0>"
      ]
     },
     "metadata": {},
     "output_type": "display_data"
    }
   ],
   "source": [
    "modelo_catboost = create_model(\"catboost\")"
   ]
  },
  {
   "cell_type": "markdown",
   "metadata": {},
   "source": [
    "# Tuning *Catboost*"
   ]
  },
  {
   "cell_type": "code",
   "execution_count": 59,
   "metadata": {},
   "outputs": [
    {
     "data": {
      "text/html": [
       "<style  type=\"text/css\" >\n",
       "#T_31d3d066_3c86_11eb_9b5f_a81e84a9863frow10_col0,#T_31d3d066_3c86_11eb_9b5f_a81e84a9863frow10_col1,#T_31d3d066_3c86_11eb_9b5f_a81e84a9863frow10_col2,#T_31d3d066_3c86_11eb_9b5f_a81e84a9863frow10_col3,#T_31d3d066_3c86_11eb_9b5f_a81e84a9863frow10_col4,#T_31d3d066_3c86_11eb_9b5f_a81e84a9863frow10_col5,#T_31d3d066_3c86_11eb_9b5f_a81e84a9863frow10_col6{\n",
       "            background:  yellow;\n",
       "        }</style><table id=\"T_31d3d066_3c86_11eb_9b5f_a81e84a9863f\" ><thead>    <tr>        <th class=\"blank level0\" ></th>        <th class=\"col_heading level0 col0\" >Accuracy</th>        <th class=\"col_heading level0 col1\" >AUC</th>        <th class=\"col_heading level0 col2\" >Recall</th>        <th class=\"col_heading level0 col3\" >Prec.</th>        <th class=\"col_heading level0 col4\" >F1</th>        <th class=\"col_heading level0 col5\" >Kappa</th>        <th class=\"col_heading level0 col6\" >MCC</th>    </tr></thead><tbody>\n",
       "                <tr>\n",
       "                        <th id=\"T_31d3d066_3c86_11eb_9b5f_a81e84a9863flevel0_row0\" class=\"row_heading level0 row0\" >0</th>\n",
       "                        <td id=\"T_31d3d066_3c86_11eb_9b5f_a81e84a9863frow0_col0\" class=\"data row0 col0\" >0.7766</td>\n",
       "                        <td id=\"T_31d3d066_3c86_11eb_9b5f_a81e84a9863frow0_col1\" class=\"data row0 col1\" >0.7567</td>\n",
       "                        <td id=\"T_31d3d066_3c86_11eb_9b5f_a81e84a9863frow0_col2\" class=\"data row0 col2\" >0.9759</td>\n",
       "                        <td id=\"T_31d3d066_3c86_11eb_9b5f_a81e84a9863frow0_col3\" class=\"data row0 col3\" >0.7824</td>\n",
       "                        <td id=\"T_31d3d066_3c86_11eb_9b5f_a81e84a9863frow0_col4\" class=\"data row0 col4\" >0.8685</td>\n",
       "                        <td id=\"T_31d3d066_3c86_11eb_9b5f_a81e84a9863frow0_col5\" class=\"data row0 col5\" >0.1830</td>\n",
       "                        <td id=\"T_31d3d066_3c86_11eb_9b5f_a81e84a9863frow0_col6\" class=\"data row0 col6\" >0.2508</td>\n",
       "            </tr>\n",
       "            <tr>\n",
       "                        <th id=\"T_31d3d066_3c86_11eb_9b5f_a81e84a9863flevel0_row1\" class=\"row_heading level0 row1\" >1</th>\n",
       "                        <td id=\"T_31d3d066_3c86_11eb_9b5f_a81e84a9863frow1_col0\" class=\"data row1 col0\" >0.7714</td>\n",
       "                        <td id=\"T_31d3d066_3c86_11eb_9b5f_a81e84a9863frow1_col1\" class=\"data row1 col1\" >0.7485</td>\n",
       "                        <td id=\"T_31d3d066_3c86_11eb_9b5f_a81e84a9863frow1_col2\" class=\"data row1 col2\" >0.9691</td>\n",
       "                        <td id=\"T_31d3d066_3c86_11eb_9b5f_a81e84a9863frow1_col3\" class=\"data row1 col3\" >0.7812</td>\n",
       "                        <td id=\"T_31d3d066_3c86_11eb_9b5f_a81e84a9863frow1_col4\" class=\"data row1 col4\" >0.8650</td>\n",
       "                        <td id=\"T_31d3d066_3c86_11eb_9b5f_a81e84a9863frow1_col5\" class=\"data row1 col5\" >0.1720</td>\n",
       "                        <td id=\"T_31d3d066_3c86_11eb_9b5f_a81e84a9863frow1_col6\" class=\"data row1 col6\" >0.2286</td>\n",
       "            </tr>\n",
       "            <tr>\n",
       "                        <th id=\"T_31d3d066_3c86_11eb_9b5f_a81e84a9863flevel0_row2\" class=\"row_heading level0 row2\" >2</th>\n",
       "                        <td id=\"T_31d3d066_3c86_11eb_9b5f_a81e84a9863frow2_col0\" class=\"data row2 col0\" >0.7455</td>\n",
       "                        <td id=\"T_31d3d066_3c86_11eb_9b5f_a81e84a9863frow2_col1\" class=\"data row2 col1\" >0.7006</td>\n",
       "                        <td id=\"T_31d3d066_3c86_11eb_9b5f_a81e84a9863frow2_col2\" class=\"data row2 col2\" >0.9485</td>\n",
       "                        <td id=\"T_31d3d066_3c86_11eb_9b5f_a81e84a9863frow2_col3\" class=\"data row2 col3\" >0.7688</td>\n",
       "                        <td id=\"T_31d3d066_3c86_11eb_9b5f_a81e84a9863frow2_col4\" class=\"data row2 col4\" >0.8492</td>\n",
       "                        <td id=\"T_31d3d066_3c86_11eb_9b5f_a81e84a9863frow2_col5\" class=\"data row2 col5\" >0.0867</td>\n",
       "                        <td id=\"T_31d3d066_3c86_11eb_9b5f_a81e84a9863frow2_col6\" class=\"data row2 col6\" >0.1121</td>\n",
       "            </tr>\n",
       "            <tr>\n",
       "                        <th id=\"T_31d3d066_3c86_11eb_9b5f_a81e84a9863flevel0_row3\" class=\"row_heading level0 row3\" >3</th>\n",
       "                        <td id=\"T_31d3d066_3c86_11eb_9b5f_a81e84a9863frow3_col0\" class=\"data row3 col0\" >0.7714</td>\n",
       "                        <td id=\"T_31d3d066_3c86_11eb_9b5f_a81e84a9863frow3_col1\" class=\"data row3 col1\" >0.8010</td>\n",
       "                        <td id=\"T_31d3d066_3c86_11eb_9b5f_a81e84a9863frow3_col2\" class=\"data row3 col2\" >0.9691</td>\n",
       "                        <td id=\"T_31d3d066_3c86_11eb_9b5f_a81e84a9863frow3_col3\" class=\"data row3 col3\" >0.7812</td>\n",
       "                        <td id=\"T_31d3d066_3c86_11eb_9b5f_a81e84a9863frow3_col4\" class=\"data row3 col4\" >0.8650</td>\n",
       "                        <td id=\"T_31d3d066_3c86_11eb_9b5f_a81e84a9863frow3_col5\" class=\"data row3 col5\" >0.1720</td>\n",
       "                        <td id=\"T_31d3d066_3c86_11eb_9b5f_a81e84a9863frow3_col6\" class=\"data row3 col6\" >0.2286</td>\n",
       "            </tr>\n",
       "            <tr>\n",
       "                        <th id=\"T_31d3d066_3c86_11eb_9b5f_a81e84a9863flevel0_row4\" class=\"row_heading level0 row4\" >4</th>\n",
       "                        <td id=\"T_31d3d066_3c86_11eb_9b5f_a81e84a9863frow4_col0\" class=\"data row4 col0\" >0.7792</td>\n",
       "                        <td id=\"T_31d3d066_3c86_11eb_9b5f_a81e84a9863frow4_col1\" class=\"data row4 col1\" >0.7100</td>\n",
       "                        <td id=\"T_31d3d066_3c86_11eb_9b5f_a81e84a9863frow4_col2\" class=\"data row4 col2\" >0.9931</td>\n",
       "                        <td id=\"T_31d3d066_3c86_11eb_9b5f_a81e84a9863frow4_col3\" class=\"data row4 col3\" >0.7769</td>\n",
       "                        <td id=\"T_31d3d066_3c86_11eb_9b5f_a81e84a9863frow4_col4\" class=\"data row4 col4\" >0.8718</td>\n",
       "                        <td id=\"T_31d3d066_3c86_11eb_9b5f_a81e84a9863frow4_col5\" class=\"data row4 col5\" >0.1555</td>\n",
       "                        <td id=\"T_31d3d066_3c86_11eb_9b5f_a81e84a9863frow4_col6\" class=\"data row4 col6\" >0.2620</td>\n",
       "            </tr>\n",
       "            <tr>\n",
       "                        <th id=\"T_31d3d066_3c86_11eb_9b5f_a81e84a9863flevel0_row5\" class=\"row_heading level0 row5\" >5</th>\n",
       "                        <td id=\"T_31d3d066_3c86_11eb_9b5f_a81e84a9863frow5_col0\" class=\"data row5 col0\" >0.7662</td>\n",
       "                        <td id=\"T_31d3d066_3c86_11eb_9b5f_a81e84a9863frow5_col1\" class=\"data row5 col1\" >0.7168</td>\n",
       "                        <td id=\"T_31d3d066_3c86_11eb_9b5f_a81e84a9863frow5_col2\" class=\"data row5 col2\" >0.9759</td>\n",
       "                        <td id=\"T_31d3d066_3c86_11eb_9b5f_a81e84a9863frow5_col3\" class=\"data row5 col3\" >0.7732</td>\n",
       "                        <td id=\"T_31d3d066_3c86_11eb_9b5f_a81e84a9863frow5_col4\" class=\"data row5 col4\" >0.8628</td>\n",
       "                        <td id=\"T_31d3d066_3c86_11eb_9b5f_a81e84a9863frow5_col5\" class=\"data row5 col5\" >0.1398</td>\n",
       "                        <td id=\"T_31d3d066_3c86_11eb_9b5f_a81e84a9863frow5_col6\" class=\"data row5 col6\" >0.2034</td>\n",
       "            </tr>\n",
       "            <tr>\n",
       "                        <th id=\"T_31d3d066_3c86_11eb_9b5f_a81e84a9863flevel0_row6\" class=\"row_heading level0 row6\" >6</th>\n",
       "                        <td id=\"T_31d3d066_3c86_11eb_9b5f_a81e84a9863frow6_col0\" class=\"data row6 col0\" >0.7610</td>\n",
       "                        <td id=\"T_31d3d066_3c86_11eb_9b5f_a81e84a9863frow6_col1\" class=\"data row6 col1\" >0.7322</td>\n",
       "                        <td id=\"T_31d3d066_3c86_11eb_9b5f_a81e84a9863frow6_col2\" class=\"data row6 col2\" >0.9724</td>\n",
       "                        <td id=\"T_31d3d066_3c86_11eb_9b5f_a81e84a9863frow6_col3\" class=\"data row6 col3\" >0.7705</td>\n",
       "                        <td id=\"T_31d3d066_3c86_11eb_9b5f_a81e84a9863frow6_col4\" class=\"data row6 col4\" >0.8598</td>\n",
       "                        <td id=\"T_31d3d066_3c86_11eb_9b5f_a81e84a9863frow6_col5\" class=\"data row6 col5\" >0.1207</td>\n",
       "                        <td id=\"T_31d3d066_3c86_11eb_9b5f_a81e84a9863frow6_col6\" class=\"data row6 col6\" >0.1756</td>\n",
       "            </tr>\n",
       "            <tr>\n",
       "                        <th id=\"T_31d3d066_3c86_11eb_9b5f_a81e84a9863flevel0_row7\" class=\"row_heading level0 row7\" >7</th>\n",
       "                        <td id=\"T_31d3d066_3c86_11eb_9b5f_a81e84a9863frow7_col0\" class=\"data row7 col0\" >0.7714</td>\n",
       "                        <td id=\"T_31d3d066_3c86_11eb_9b5f_a81e84a9863frow7_col1\" class=\"data row7 col1\" >0.7518</td>\n",
       "                        <td id=\"T_31d3d066_3c86_11eb_9b5f_a81e84a9863frow7_col2\" class=\"data row7 col2\" >0.9759</td>\n",
       "                        <td id=\"T_31d3d066_3c86_11eb_9b5f_a81e84a9863frow7_col3\" class=\"data row7 col3\" >0.7775</td>\n",
       "                        <td id=\"T_31d3d066_3c86_11eb_9b5f_a81e84a9863frow7_col4\" class=\"data row7 col4\" >0.8654</td>\n",
       "                        <td id=\"T_31d3d066_3c86_11eb_9b5f_a81e84a9863frow7_col5\" class=\"data row7 col5\" >0.1670</td>\n",
       "                        <td id=\"T_31d3d066_3c86_11eb_9b5f_a81e84a9863frow7_col6\" class=\"data row7 col6\" >0.2339</td>\n",
       "            </tr>\n",
       "            <tr>\n",
       "                        <th id=\"T_31d3d066_3c86_11eb_9b5f_a81e84a9863flevel0_row8\" class=\"row_heading level0 row8\" >8</th>\n",
       "                        <td id=\"T_31d3d066_3c86_11eb_9b5f_a81e84a9863frow8_col0\" class=\"data row8 col0\" >0.7584</td>\n",
       "                        <td id=\"T_31d3d066_3c86_11eb_9b5f_a81e84a9863frow8_col1\" class=\"data row8 col1\" >0.7837</td>\n",
       "                        <td id=\"T_31d3d066_3c86_11eb_9b5f_a81e84a9863frow8_col2\" class=\"data row8 col2\" >0.9759</td>\n",
       "                        <td id=\"T_31d3d066_3c86_11eb_9b5f_a81e84a9863frow8_col3\" class=\"data row8 col3\" >0.7669</td>\n",
       "                        <td id=\"T_31d3d066_3c86_11eb_9b5f_a81e84a9863frow8_col4\" class=\"data row8 col4\" >0.8589</td>\n",
       "                        <td id=\"T_31d3d066_3c86_11eb_9b5f_a81e84a9863frow8_col5\" class=\"data row8 col5\" >0.0980</td>\n",
       "                        <td id=\"T_31d3d066_3c86_11eb_9b5f_a81e84a9863frow8_col6\" class=\"data row8 col6\" >0.1525</td>\n",
       "            </tr>\n",
       "            <tr>\n",
       "                        <th id=\"T_31d3d066_3c86_11eb_9b5f_a81e84a9863flevel0_row9\" class=\"row_heading level0 row9\" >9</th>\n",
       "                        <td id=\"T_31d3d066_3c86_11eb_9b5f_a81e84a9863frow9_col0\" class=\"data row9 col0\" >0.7578</td>\n",
       "                        <td id=\"T_31d3d066_3c86_11eb_9b5f_a81e84a9863frow9_col1\" class=\"data row9 col1\" >0.7417</td>\n",
       "                        <td id=\"T_31d3d066_3c86_11eb_9b5f_a81e84a9863frow9_col2\" class=\"data row9 col2\" >0.9483</td>\n",
       "                        <td id=\"T_31d3d066_3c86_11eb_9b5f_a81e84a9863frow9_col3\" class=\"data row9 col3\" >0.7790</td>\n",
       "                        <td id=\"T_31d3d066_3c86_11eb_9b5f_a81e84a9863frow9_col4\" class=\"data row9 col4\" >0.8554</td>\n",
       "                        <td id=\"T_31d3d066_3c86_11eb_9b5f_a81e84a9863frow9_col5\" class=\"data row9 col5\" >0.1532</td>\n",
       "                        <td id=\"T_31d3d066_3c86_11eb_9b5f_a81e84a9863frow9_col6\" class=\"data row9 col6\" >0.1870</td>\n",
       "            </tr>\n",
       "            <tr>\n",
       "                        <th id=\"T_31d3d066_3c86_11eb_9b5f_a81e84a9863flevel0_row10\" class=\"row_heading level0 row10\" >Mean</th>\n",
       "                        <td id=\"T_31d3d066_3c86_11eb_9b5f_a81e84a9863frow10_col0\" class=\"data row10 col0\" >0.7659</td>\n",
       "                        <td id=\"T_31d3d066_3c86_11eb_9b5f_a81e84a9863frow10_col1\" class=\"data row10 col1\" >0.7443</td>\n",
       "                        <td id=\"T_31d3d066_3c86_11eb_9b5f_a81e84a9863frow10_col2\" class=\"data row10 col2\" >0.9704</td>\n",
       "                        <td id=\"T_31d3d066_3c86_11eb_9b5f_a81e84a9863frow10_col3\" class=\"data row10 col3\" >0.7758</td>\n",
       "                        <td id=\"T_31d3d066_3c86_11eb_9b5f_a81e84a9863frow10_col4\" class=\"data row10 col4\" >0.8622</td>\n",
       "                        <td id=\"T_31d3d066_3c86_11eb_9b5f_a81e84a9863frow10_col5\" class=\"data row10 col5\" >0.1448</td>\n",
       "                        <td id=\"T_31d3d066_3c86_11eb_9b5f_a81e84a9863frow10_col6\" class=\"data row10 col6\" >0.2034</td>\n",
       "            </tr>\n",
       "            <tr>\n",
       "                        <th id=\"T_31d3d066_3c86_11eb_9b5f_a81e84a9863flevel0_row11\" class=\"row_heading level0 row11\" >SD</th>\n",
       "                        <td id=\"T_31d3d066_3c86_11eb_9b5f_a81e84a9863frow11_col0\" class=\"data row11 col0\" >0.0097</td>\n",
       "                        <td id=\"T_31d3d066_3c86_11eb_9b5f_a81e84a9863frow11_col1\" class=\"data row11 col1\" >0.0300</td>\n",
       "                        <td id=\"T_31d3d066_3c86_11eb_9b5f_a81e84a9863frow11_col2\" class=\"data row11 col2\" >0.0127</td>\n",
       "                        <td id=\"T_31d3d066_3c86_11eb_9b5f_a81e84a9863frow11_col3\" class=\"data row11 col3\" >0.0053</td>\n",
       "                        <td id=\"T_31d3d066_3c86_11eb_9b5f_a81e84a9863frow11_col4\" class=\"data row11 col4\" >0.0062</td>\n",
       "                        <td id=\"T_31d3d066_3c86_11eb_9b5f_a81e84a9863frow11_col5\" class=\"data row11 col5\" >0.0313</td>\n",
       "                        <td id=\"T_31d3d066_3c86_11eb_9b5f_a81e84a9863frow11_col6\" class=\"data row11 col6\" >0.0446</td>\n",
       "            </tr>\n",
       "    </tbody></table>"
      ],
      "text/plain": [
       "<pandas.io.formats.style.Styler at 0x24f286be760>"
      ]
     },
     "metadata": {},
     "output_type": "display_data"
    }
   ],
   "source": [
    "tuned_catboost = tune_model(modelo_catboost, optimize=\"F1\", n_iter=50)"
   ]
  },
  {
   "cell_type": "markdown",
   "metadata": {},
   "source": [
    "# Rendimiento del modelo"
   ]
  },
  {
   "cell_type": "markdown",
   "metadata": {},
   "source": [
    "## Curvas ROC"
   ]
  },
  {
   "cell_type": "code",
   "execution_count": 60,
   "metadata": {},
   "outputs": [
    {
     "data": {
      "image/png": "[encoded data removed]",
      "text/plain": [
       "<Figure size 576x396 with 1 Axes>"
      ]
     },
     "metadata": {},
     "output_type": "display_data"
    }
   ],
   "source": [
    "plot_model(tuned_catboost, plot = 'auc')"
   ]
  },
  {
   "cell_type": "markdown",
   "metadata": {},
   "source": [
    "## Curva Precisión-Recall"
   ]
  },
  {
   "cell_type": "code",
   "execution_count": 61,
   "metadata": {},
   "outputs": [
    {
     "data": {
      "image/png": "[encoded data removed]",
      "text/plain": [
       "<Figure size 576x396 with 1 Axes>"
      ]
     },
     "metadata": {},
     "output_type": "display_data"
    }
   ],
   "source": [
    "plot_model(tuned_catboost, plot = 'pr')"
   ]
  },
  {
   "cell_type": "markdown",
   "metadata": {},
   "source": [
    "## Matriz de confusión"
   ]
  },
  {
   "cell_type": "code",
   "execution_count": 62,
   "metadata": {},
   "outputs": [
    {
     "data": {
      "image/png": "[encoded data removed]",
      "text/plain": [
       "<Figure size 576x396 with 1 Axes>"
      ]
     },
     "metadata": {},
     "output_type": "display_data"
    }
   ],
   "source": [
    "plot_model(tuned_catboost, plot = 'confusion_matrix')"
   ]
  },
  {
   "cell_type": "markdown",
   "metadata": {},
   "source": [
    "## Reporte de clasificación"
   ]
  },
  {
   "cell_type": "code",
   "execution_count": 64,
   "metadata": {},
   "outputs": [
    {
     "data": {
      "image/png": "[encoded data removed]",
      "text/plain": [
       "<Figure size 576x396 with 2 Axes>"
      ]
     },
     "metadata": {},
     "output_type": "display_data"
    }
   ],
   "source": [
    "plot_model(tuned_catboost, plot = \"class_report\")"
   ]
  },
  {
   "cell_type": "markdown",
   "metadata": {},
   "source": [
    "## Importancia de variables"
   ]
  },
  {
   "cell_type": "code",
   "execution_count": 65,
   "metadata": {},
   "outputs": [
    {
     "data": {
      "image/png": "[encoded data removed]",
      "text/plain": [
       "<Figure size 800x500 with 1 Axes>"
      ]
     },
     "metadata": {},
     "output_type": "display_data"
    }
   ],
   "source": [
    "plot_model(tuned_catboost, plot='feature')"
   ]
  },
  {
   "cell_type": "markdown",
   "metadata": {},
   "source": [
    "# Predicción Interna"
   ]
  },
  {
   "cell_type": "code",
   "execution_count": 67,
   "metadata": {},
   "outputs": [
    {
     "data": {
      "text/html": [
       "<style  type=\"text/css\" >\n",
       "</style><table id=\"T_d1b309fc_3c86_11eb_baae_a81e84a9863f\" ><thead>    <tr>        <th class=\"blank level0\" ></th>        <th class=\"col_heading level0 col0\" >Model</th>        <th class=\"col_heading level0 col1\" >Accuracy</th>        <th class=\"col_heading level0 col2\" >AUC</th>        <th class=\"col_heading level0 col3\" >Recall</th>        <th class=\"col_heading level0 col4\" >Prec.</th>        <th class=\"col_heading level0 col5\" >F1</th>        <th class=\"col_heading level0 col6\" >Kappa</th>        <th class=\"col_heading level0 col7\" >MCC</th>    </tr></thead><tbody>\n",
       "                <tr>\n",
       "                        <th id=\"T_d1b309fc_3c86_11eb_baae_a81e84a9863flevel0_row0\" class=\"row_heading level0 row0\" >0</th>\n",
       "                        <td id=\"T_d1b309fc_3c86_11eb_baae_a81e84a9863frow0_col0\" class=\"data row0 col0\" >CatBoost Classifier</td>\n",
       "                        <td id=\"T_d1b309fc_3c86_11eb_baae_a81e84a9863frow0_col1\" class=\"data row0 col1\" >0.7576</td>\n",
       "                        <td id=\"T_d1b309fc_3c86_11eb_baae_a81e84a9863frow0_col2\" class=\"data row0 col2\" >0.7910</td>\n",
       "                        <td id=\"T_d1b309fc_3c86_11eb_baae_a81e84a9863frow0_col3\" class=\"data row0 col3\" >0.9760</td>\n",
       "                        <td id=\"T_d1b309fc_3c86_11eb_baae_a81e84a9863frow0_col4\" class=\"data row0 col4\" >0.7608</td>\n",
       "                        <td id=\"T_d1b309fc_3c86_11eb_baae_a81e84a9863frow0_col5\" class=\"data row0 col5\" >0.8551</td>\n",
       "                        <td id=\"T_d1b309fc_3c86_11eb_baae_a81e84a9863frow0_col6\" class=\"data row0 col6\" >0.1788</td>\n",
       "                        <td id=\"T_d1b309fc_3c86_11eb_baae_a81e84a9863frow0_col7\" class=\"data row0 col7\" >0.2511</td>\n",
       "            </tr>\n",
       "    </tbody></table>"
      ],
      "text/plain": [
       "<pandas.io.formats.style.Styler at 0x24f32ddf5e0>"
      ]
     },
     "metadata": {},
     "output_type": "display_data"
    }
   ],
   "source": [
    "predict_model(tuned_catboost);"
   ]
  },
  {
   "cell_type": "markdown",
   "metadata": {},
   "source": [
    "# Finalizando ajusta de *Catboost*"
   ]
  },
  {
   "cell_type": "code",
   "execution_count": 68,
   "metadata": {},
   "outputs": [
    {
     "data": {
      "text/plain": [
       "<catboost.core.CatBoostClassifier at 0x24f32eba0a0>"
      ]
     },
     "execution_count": 68,
     "metadata": {},
     "output_type": "execute_result"
    }
   ],
   "source": [
    "final_catboost = finalize_model(tuned_catboost)\n",
    "final_catboost"
   ]
  },
  {
   "cell_type": "markdown",
   "metadata": {},
   "source": [
    "# Predicción submission"
   ]
  },
  {
   "cell_type": "code",
   "execution_count": 69,
   "metadata": {},
   "outputs": [
    {
     "data": {
      "text/html": [
       "<div>\n",
       "<style scoped>\n",
       "    .dataframe tbody tr th:only-of-type {\n",
       "        vertical-align: middle;\n",
       "    }\n",
       "\n",
       "    .dataframe tbody tr th {\n",
       "        vertical-align: top;\n",
       "    }\n",
       "\n",
       "    .dataframe thead th {\n",
       "        text-align: right;\n",
       "    }\n",
       "</style>\n",
       "<table border=\"1\" class=\"dataframe\">\n",
       "  <thead>\n",
       "    <tr style=\"text-align: right;\">\n",
       "      <th></th>\n",
       "      <th>Category</th>\n",
       "      <th>Reviews</th>\n",
       "      <th>Type</th>\n",
       "      <th>content_rating</th>\n",
       "      <th>new_genres</th>\n",
       "      <th>new_day</th>\n",
       "      <th>new_year</th>\n",
       "      <th>size_kb</th>\n",
       "      <th>new_installs</th>\n",
       "      <th>new_price</th>\n",
       "      <th>new_month_num</th>\n",
       "      <th>new_version</th>\n",
       "      <th>new_subversion</th>\n",
       "      <th>min_android</th>\n",
       "      <th>Label</th>\n",
       "      <th>Score</th>\n",
       "    </tr>\n",
       "  </thead>\n",
       "  <tbody>\n",
       "    <tr>\n",
       "      <th>0</th>\n",
       "      <td>Lifestyle</td>\n",
       "      <td>10</td>\n",
       "      <td>Free</td>\n",
       "      <td>Everyone</td>\n",
       "      <td>Lifestyle</td>\n",
       "      <td>14</td>\n",
       "      <td>2018</td>\n",
       "      <td>3000.0</td>\n",
       "      <td>1000.0</td>\n",
       "      <td>0.0</td>\n",
       "      <td>1</td>\n",
       "      <td>1.0</td>\n",
       "      <td>0.0</td>\n",
       "      <td>4.1</td>\n",
       "      <td>1</td>\n",
       "      <td>0.7266</td>\n",
       "    </tr>\n",
       "    <tr>\n",
       "      <th>1</th>\n",
       "      <td>Personalization</td>\n",
       "      <td>7146</td>\n",
       "      <td>Free</td>\n",
       "      <td>Everyone 10+</td>\n",
       "      <td>Personalization</td>\n",
       "      <td>2</td>\n",
       "      <td>2018</td>\n",
       "      <td>14000.0</td>\n",
       "      <td>1000000.0</td>\n",
       "      <td>0.0</td>\n",
       "      <td>2</td>\n",
       "      <td>1.0</td>\n",
       "      <td>1.0</td>\n",
       "      <td>4.0</td>\n",
       "      <td>1</td>\n",
       "      <td>0.8289</td>\n",
       "    </tr>\n",
       "    <tr>\n",
       "      <th>2</th>\n",
       "      <td>Shopping</td>\n",
       "      <td>2221</td>\n",
       "      <td>Free</td>\n",
       "      <td>Everyone</td>\n",
       "      <td>Shopping</td>\n",
       "      <td>10</td>\n",
       "      <td>2018</td>\n",
       "      <td>NaN</td>\n",
       "      <td>100000.0</td>\n",
       "      <td>0.0</td>\n",
       "      <td>7</td>\n",
       "      <td>NaN</td>\n",
       "      <td>NaN</td>\n",
       "      <td>NaN</td>\n",
       "      <td>1</td>\n",
       "      <td>0.6007</td>\n",
       "    </tr>\n",
       "    <tr>\n",
       "      <th>3</th>\n",
       "      <td>Shopping</td>\n",
       "      <td>21</td>\n",
       "      <td>Free</td>\n",
       "      <td>Everyone</td>\n",
       "      <td>Shopping</td>\n",
       "      <td>31</td>\n",
       "      <td>2017</td>\n",
       "      <td>2500.0</td>\n",
       "      <td>100.0</td>\n",
       "      <td>0.0</td>\n",
       "      <td>10</td>\n",
       "      <td>1.0</td>\n",
       "      <td>6.0</td>\n",
       "      <td>4.2</td>\n",
       "      <td>1</td>\n",
       "      <td>0.8990</td>\n",
       "    </tr>\n",
       "    <tr>\n",
       "      <th>4</th>\n",
       "      <td>Travel_and_local</td>\n",
       "      <td>2822</td>\n",
       "      <td>Free</td>\n",
       "      <td>Everyone</td>\n",
       "      <td>Travel &amp; Local</td>\n",
       "      <td>27</td>\n",
       "      <td>2018</td>\n",
       "      <td>27000.0</td>\n",
       "      <td>100000.0</td>\n",
       "      <td>0.0</td>\n",
       "      <td>7</td>\n",
       "      <td>1.0</td>\n",
       "      <td>21.0</td>\n",
       "      <td>4.1</td>\n",
       "      <td>1</td>\n",
       "      <td>0.7768</td>\n",
       "    </tr>\n",
       "  </tbody>\n",
       "</table>\n",
       "</div>"
      ],
      "text/plain": [
       "           Category  Reviews  Type content_rating       new_genres  new_day  \\\n",
       "0         Lifestyle       10  Free       Everyone        Lifestyle       14   \n",
       "1   Personalization     7146  Free   Everyone 10+  Personalization        2   \n",
       "2          Shopping     2221  Free       Everyone         Shopping       10   \n",
       "3          Shopping       21  Free       Everyone         Shopping       31   \n",
       "4  Travel_and_local     2822  Free       Everyone   Travel & Local       27   \n",
       "\n",
       "   new_year  size_kb  new_installs  new_price  new_month_num  new_version  \\\n",
       "0      2018   3000.0        1000.0        0.0              1          1.0   \n",
       "1      2018  14000.0     1000000.0        0.0              2          1.0   \n",
       "2      2018      NaN      100000.0        0.0              7          NaN   \n",
       "3      2017   2500.0         100.0        0.0             10          1.0   \n",
       "4      2018  27000.0      100000.0        0.0              7          1.0   \n",
       "\n",
       "   new_subversion  min_android  Label   Score  \n",
       "0             0.0          4.1      1  0.7266  \n",
       "1             1.0          4.0      1  0.8289  \n",
       "2             NaN          NaN      1  0.6007  \n",
       "3             6.0          4.2      1  0.8990  \n",
       "4            21.0          4.1      1  0.7768  "
      ]
     },
     "execution_count": 69,
     "metadata": {},
     "output_type": "execute_result"
    }
   ],
   "source": [
    "predict_submission = predict_model(final_catboost, data=mi_test)\n",
    "predict_submission.head()"
   ]
  },
  {
   "cell_type": "code",
   "execution_count": 95,
   "metadata": {},
   "outputs": [
    {
     "data": {
      "text/html": [
       "<div>\n",
       "<style scoped>\n",
       "    .dataframe tbody tr th:only-of-type {\n",
       "        vertical-align: middle;\n",
       "    }\n",
       "\n",
       "    .dataframe tbody tr th {\n",
       "        vertical-align: top;\n",
       "    }\n",
       "\n",
       "    .dataframe thead th {\n",
       "        text-align: right;\n",
       "    }\n",
       "</style>\n",
       "<table border=\"1\" class=\"dataframe\">\n",
       "  <thead>\n",
       "    <tr style=\"text-align: right;\">\n",
       "      <th></th>\n",
       "      <th>id</th>\n",
       "      <th>rating</th>\n",
       "    </tr>\n",
       "  </thead>\n",
       "  <tbody>\n",
       "    <tr>\n",
       "      <th>0</th>\n",
       "      <td>5788</td>\n",
       "      <td>1</td>\n",
       "    </tr>\n",
       "    <tr>\n",
       "      <th>1</th>\n",
       "      <td>5789</td>\n",
       "      <td>1</td>\n",
       "    </tr>\n",
       "    <tr>\n",
       "      <th>2</th>\n",
       "      <td>5790</td>\n",
       "      <td>1</td>\n",
       "    </tr>\n",
       "    <tr>\n",
       "      <th>3</th>\n",
       "      <td>5791</td>\n",
       "      <td>1</td>\n",
       "    </tr>\n",
       "    <tr>\n",
       "      <th>4</th>\n",
       "      <td>5792</td>\n",
       "      <td>1</td>\n",
       "    </tr>\n",
       "    <tr>\n",
       "      <th>5</th>\n",
       "      <td>5793</td>\n",
       "      <td>0</td>\n",
       "    </tr>\n",
       "    <tr>\n",
       "      <th>6</th>\n",
       "      <td>5794</td>\n",
       "      <td>1</td>\n",
       "    </tr>\n",
       "    <tr>\n",
       "      <th>7</th>\n",
       "      <td>5795</td>\n",
       "      <td>1</td>\n",
       "    </tr>\n",
       "    <tr>\n",
       "      <th>8</th>\n",
       "      <td>5796</td>\n",
       "      <td>1</td>\n",
       "    </tr>\n",
       "    <tr>\n",
       "      <th>9</th>\n",
       "      <td>5797</td>\n",
       "      <td>1</td>\n",
       "    </tr>\n",
       "  </tbody>\n",
       "</table>\n",
       "</div>"
      ],
      "text/plain": [
       "     id  rating\n",
       "0  5788       1\n",
       "1  5789       1\n",
       "2  5790       1\n",
       "3  5791       1\n",
       "4  5792       1\n",
       "5  5793       0\n",
       "6  5794       1\n",
       "7  5795       1\n",
       "8  5796       1\n",
       "9  5797       1"
      ]
     },
     "execution_count": 95,
     "metadata": {},
     "output_type": "execute_result"
    }
   ],
   "source": [
    "data_sub[\"rating\"] = predict_submission[\"Label\"]\n",
    "data_sub.head(10)"
   ]
  },
  {
   "cell_type": "markdown",
   "metadata": {},
   "source": [
    "# Exportando predicciones"
   ]
  },
  {
   "cell_type": "code",
   "execution_count": 96,
   "metadata": {},
   "outputs": [],
   "source": [
    "data_sub.to_csv(\"../submission/sub_12_catboost.csv\", index=False)"
   ]
  }
 ],
 "metadata": {
  "kernelspec": {
   "display_name": "Python 3",
   "language": "python",
   "name": "python3"
  },
  "language_info": {
   "codemirror_mode": {
    "name": "ipython",
    "version": 3
   },
   "file_extension": ".py",
   "mimetype": "text/x-python",
   "name": "python",
   "nbconvert_exporter": "python",
   "pygments_lexer": "ipython3",
   "version": "3.8.5"
  }
 },
 "nbformat": 4,
 "nbformat_minor": 4
}
